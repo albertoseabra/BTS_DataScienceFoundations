{
 "cells": [
  {
   "cell_type": "markdown",
   "metadata": {},
   "source": [
    "# Subject: Data Science Foundation\n",
    "\n",
    "## Session 6 - Introduction to descriptive statistics\n",
    "\n",
    "### Exercice 1 -  Descriptive Statistics For pandas Dataframe \"Advertising Data\"\n",
    "\n",
    "Considering the Descriptive Statistics in Demo 2 develop the Descriptive Statistics for the variables “TV”, “radio” and “newspaper”. \n",
    "\n",
    "- Dataset: \"Advertising\" (available at http://www-bcf.usc.edu/~gareth/ISL/Advertising.csv). \n",
    "- Interpret and discuss the Results. \n",
    "- Commit scripts in your GitHub account. You should export your solution code (.ipynb notebook) and push it to your repository “DataScienceFoundations”.\n",
    "\n",
    "\n",
    "The following are the tasks that should complete and synchronize with your repository “DataScienceFoundations” until October 25. Please notice that none of these tasks is graded, however it’s important that you correctly understand and complete them in order to be sure that you won’t have problems with further assignments."
   ]
  },
  {
   "cell_type": "markdown",
   "metadata": {},
   "source": [
    "### Read data into a Dataframe:"
   ]
  },
  {
   "cell_type": "code",
   "execution_count": 1,
   "metadata": {},
   "outputs": [
    {
     "data": {
      "text/html": [
       "<div>\n",
       "<style>\n",
       "    .dataframe thead tr:only-child th {\n",
       "        text-align: right;\n",
       "    }\n",
       "\n",
       "    .dataframe thead th {\n",
       "        text-align: left;\n",
       "    }\n",
       "\n",
       "    .dataframe tbody tr th {\n",
       "        vertical-align: top;\n",
       "    }\n",
       "</style>\n",
       "<table border=\"1\" class=\"dataframe\">\n",
       "  <thead>\n",
       "    <tr style=\"text-align: right;\">\n",
       "      <th></th>\n",
       "      <th>TV</th>\n",
       "      <th>radio</th>\n",
       "      <th>newspaper</th>\n",
       "      <th>sales</th>\n",
       "    </tr>\n",
       "  </thead>\n",
       "  <tbody>\n",
       "    <tr>\n",
       "      <th>1</th>\n",
       "      <td>230.1</td>\n",
       "      <td>37.8</td>\n",
       "      <td>69.2</td>\n",
       "      <td>22.1</td>\n",
       "    </tr>\n",
       "    <tr>\n",
       "      <th>2</th>\n",
       "      <td>44.5</td>\n",
       "      <td>39.3</td>\n",
       "      <td>45.1</td>\n",
       "      <td>10.4</td>\n",
       "    </tr>\n",
       "    <tr>\n",
       "      <th>3</th>\n",
       "      <td>17.2</td>\n",
       "      <td>45.9</td>\n",
       "      <td>69.3</td>\n",
       "      <td>9.3</td>\n",
       "    </tr>\n",
       "    <tr>\n",
       "      <th>4</th>\n",
       "      <td>151.5</td>\n",
       "      <td>41.3</td>\n",
       "      <td>58.5</td>\n",
       "      <td>18.5</td>\n",
       "    </tr>\n",
       "    <tr>\n",
       "      <th>5</th>\n",
       "      <td>180.8</td>\n",
       "      <td>10.8</td>\n",
       "      <td>58.4</td>\n",
       "      <td>12.9</td>\n",
       "    </tr>\n",
       "  </tbody>\n",
       "</table>\n",
       "</div>"
      ],
      "text/plain": [
       "      TV  radio  newspaper  sales\n",
       "1  230.1   37.8       69.2   22.1\n",
       "2   44.5   39.3       45.1   10.4\n",
       "3   17.2   45.9       69.3    9.3\n",
       "4  151.5   41.3       58.5   18.5\n",
       "5  180.8   10.8       58.4   12.9"
      ]
     },
     "execution_count": 1,
     "metadata": {},
     "output_type": "execute_result"
    }
   ],
   "source": [
    "import pandas as pd\n",
    "import numpy as np\n",
    "import matplotlib.pyplot as plt\n",
    "%matplotlib inline\n",
    "data = pd.read_csv('http://www-bcf.usc.edu/~gareth/ISL/Advertising.csv', index_col=0)\n",
    "data.head()"
   ]
  },
  {
   "cell_type": "markdown",
   "metadata": {
    "collapsed": true
   },
   "source": [
    "## Basic statistics \n",
    "\n",
    "Sum, Cumulative sum, Count the number of non-NA values, Count the number of NA values, Minimum value of TV, Minimum value of TV and Range of TV. Repeat for radio and newspaper."
   ]
  },
  {
   "cell_type": "code",
   "execution_count": 9,
   "metadata": {},
   "outputs": [
    {
     "name": "stdout",
     "output_type": "stream",
     "text": [
      "TV sum:  29408.499999999996\n",
      "TV count:  200\n",
      "TV NA values:  0\n",
      "TV min:  0.7\n",
      "TV max:  296.4\n",
      "TV range:  295.7\n"
     ]
    }
   ],
   "source": [
    "print('TV sum: ', data.TV.sum())\n",
    "print('TV count: ', data.TV.count())\n",
    "print('TV NA values: ', data.TV.isnull().sum())\n",
    "print('TV min: ', data.TV.min())\n",
    "print('TV max: ', data.TV.max())\n",
    "print('TV range: ', data.TV.max() - data.TV.min())"
   ]
  },
  {
   "cell_type": "code",
   "execution_count": 10,
   "metadata": {},
   "outputs": [
    {
     "name": "stdout",
     "output_type": "stream",
     "text": [
      "Radio sum:  4652.800000000005\n",
      "Radio count:  200\n",
      "Radio NA values:  0\n",
      "Radio min:  0.0\n",
      "Radio max:  49.6\n",
      "Radio range:  49.6\n"
     ]
    }
   ],
   "source": [
    "print('Radio sum: ', data.radio.sum())\n",
    "print('Radio count: ', data.radio.count())\n",
    "print('Radio NA values: ', data.radio.isnull().sum())\n",
    "print('Radio min: ', data.radio.min())\n",
    "print('Radio max: ', data.radio.max())\n",
    "print('Radio range: ', data.radio.max() - data.radio.min())"
   ]
  },
  {
   "cell_type": "code",
   "execution_count": 11,
   "metadata": {},
   "outputs": [
    {
     "name": "stdout",
     "output_type": "stream",
     "text": [
      "Newspaper sum:  6110.799999999999\n",
      "Newspaper count:  200\n",
      "Newspaper NA values:  0\n",
      "Newspaper min:  0.3\n",
      "Newspaper max:  114.0\n",
      "Newspaper range:  113.7\n"
     ]
    }
   ],
   "source": [
    "print('Newspaper sum: ', data.newspaper.sum())\n",
    "print('Newspaper count: ', data.newspaper.count())\n",
    "print('Newspaper NA values: ', data.newspaper.isnull().sum())\n",
    "print('Newspaper min: ', data.newspaper.min())\n",
    "print('Newspaper max: ', data.newspaper.max())\n",
    "print('Newspaper range: ', data.newspaper.max() - data.newspaper.min())"
   ]
  },
  {
   "cell_type": "markdown",
   "metadata": {
    "collapsed": true
   },
   "source": [
    "## Central Tendency\n",
    "\n",
    "Mean and Median."
   ]
  },
  {
   "cell_type": "code",
   "execution_count": 12,
   "metadata": {},
   "outputs": [
    {
     "data": {
      "text/plain": [
       "TV           147.0425\n",
       "radio         23.2640\n",
       "newspaper     30.5540\n",
       "sales         14.0225\n",
       "dtype: float64"
      ]
     },
     "execution_count": 12,
     "metadata": {},
     "output_type": "execute_result"
    }
   ],
   "source": [
    "data.mean()"
   ]
  },
  {
   "cell_type": "code",
   "execution_count": 14,
   "metadata": {},
   "outputs": [
    {
     "data": {
      "text/plain": [
       "TV           149.75\n",
       "radio         22.90\n",
       "newspaper     25.75\n",
       "sales         12.90\n",
       "dtype: float64"
      ]
     },
     "execution_count": 14,
     "metadata": {},
     "output_type": "execute_result"
    }
   ],
   "source": [
    "data.median()"
   ]
  },
  {
   "cell_type": "markdown",
   "metadata": {},
   "source": [
    "## Measures of spread\n",
    "\n",
    "Range, Variance, Standard deviation, Q1, Q2, Q3, Box-and-whisker plots and Histogram."
   ]
  },
  {
   "cell_type": "code",
   "execution_count": 20,
   "metadata": {},
   "outputs": [
    {
     "data": {
      "text/html": [
       "<div>\n",
       "<style>\n",
       "    .dataframe thead tr:only-child th {\n",
       "        text-align: right;\n",
       "    }\n",
       "\n",
       "    .dataframe thead th {\n",
       "        text-align: left;\n",
       "    }\n",
       "\n",
       "    .dataframe tbody tr th {\n",
       "        vertical-align: top;\n",
       "    }\n",
       "</style>\n",
       "<table border=\"1\" class=\"dataframe\">\n",
       "  <thead>\n",
       "    <tr style=\"text-align: right;\">\n",
       "      <th></th>\n",
       "      <th>count</th>\n",
       "      <th>mean</th>\n",
       "      <th>std</th>\n",
       "      <th>min</th>\n",
       "      <th>25%</th>\n",
       "      <th>50%</th>\n",
       "      <th>75%</th>\n",
       "      <th>max</th>\n",
       "    </tr>\n",
       "  </thead>\n",
       "  <tbody>\n",
       "    <tr>\n",
       "      <th>TV</th>\n",
       "      <td>200.0</td>\n",
       "      <td>147.0425</td>\n",
       "      <td>85.854236</td>\n",
       "      <td>0.7</td>\n",
       "      <td>74.375</td>\n",
       "      <td>149.75</td>\n",
       "      <td>218.825</td>\n",
       "      <td>296.4</td>\n",
       "    </tr>\n",
       "    <tr>\n",
       "      <th>radio</th>\n",
       "      <td>200.0</td>\n",
       "      <td>23.2640</td>\n",
       "      <td>14.846809</td>\n",
       "      <td>0.0</td>\n",
       "      <td>9.975</td>\n",
       "      <td>22.90</td>\n",
       "      <td>36.525</td>\n",
       "      <td>49.6</td>\n",
       "    </tr>\n",
       "    <tr>\n",
       "      <th>newspaper</th>\n",
       "      <td>200.0</td>\n",
       "      <td>30.5540</td>\n",
       "      <td>21.778621</td>\n",
       "      <td>0.3</td>\n",
       "      <td>12.750</td>\n",
       "      <td>25.75</td>\n",
       "      <td>45.100</td>\n",
       "      <td>114.0</td>\n",
       "    </tr>\n",
       "  </tbody>\n",
       "</table>\n",
       "</div>"
      ],
      "text/plain": [
       "           count      mean        std  min     25%     50%      75%    max\n",
       "TV         200.0  147.0425  85.854236  0.7  74.375  149.75  218.825  296.4\n",
       "radio      200.0   23.2640  14.846809  0.0   9.975   22.90   36.525   49.6\n",
       "newspaper  200.0   30.5540  21.778621  0.3  12.750   25.75   45.100  114.0"
      ]
     },
     "execution_count": 20,
     "metadata": {},
     "output_type": "execute_result"
    }
   ],
   "source": [
    "data.describe()[['TV', 'radio', 'newspaper']].T"
   ]
  },
  {
   "cell_type": "code",
   "execution_count": 21,
   "metadata": {},
   "outputs": [
    {
     "data": {
      "text/plain": [
       "TV           7370.949893\n",
       "radio         220.427743\n",
       "newspaper     474.308326\n",
       "sales          27.221853\n",
       "dtype: float64"
      ]
     },
     "execution_count": 21,
     "metadata": {},
     "output_type": "execute_result"
    }
   ],
   "source": [
    "data.var()"
   ]
  },
  {
   "cell_type": "code",
   "execution_count": 26,
   "metadata": {},
   "outputs": [
    {
     "data": {
      "text/plain": [
       "<matplotlib.axes._subplots.AxesSubplot at 0x15c0a5e89e8>"
      ]
     },
     "execution_count": 26,
     "metadata": {},
     "output_type": "execute_result"
    },
    {
     "data": {
      "image/png": "[encoded data removed]",
      "text/plain": [
       "<matplotlib.figure.Figure at 0x15c0a5e8630>"
      ]
     },
     "metadata": {},
     "output_type": "display_data"
    }
   ],
   "source": [
    "plt.figure(figsize=[10,8])\n",
    "data.boxplot(['TV', 'radio', 'newspaper'])"
   ]
  },
  {
   "cell_type": "code",
   "execution_count": 54,
   "metadata": {},
   "outputs": [
    {
     "data": {
      "text/plain": [
       "<matplotlib.axes._subplots.AxesSubplot at 0x15c0cf55f28>"
      ]
     },
     "execution_count": 54,
     "metadata": {},
     "output_type": "execute_result"
    },
    {
     "data": {
      "image/png": "[encoded data removed]",
      "text/plain": [
       "<matplotlib.figure.Figure at 0x15c0cc448d0>"
      ]
     },
     "metadata": {},
     "output_type": "display_data"
    }
   ],
   "source": [
    "import seaborn as sns\n",
    "sns.distplot(data.TV, bins=20)"
   ]
  },
  {
   "cell_type": "code",
   "execution_count": 55,
   "metadata": {},
   "outputs": [
    {
     "data": {
      "text/plain": [
       "<matplotlib.axes._subplots.AxesSubplot at 0x15c0d029940>"
      ]
     },
     "execution_count": 55,
     "metadata": {},
     "output_type": "execute_result"
    },
    {
     "data": {
      "image/png": "[encoded data removed]",
      "text/plain": [
       "<matplotlib.figure.Figure at 0x15c0d081c18>"
      ]
     },
     "metadata": {},
     "output_type": "display_data"
    }
   ],
   "source": [
    "sns.distplot(data.radio, bins=20)"
   ]
  },
  {
   "cell_type": "code",
   "execution_count": 29,
   "metadata": {},
   "outputs": [
    {
     "data": {
      "text/plain": [
       "<matplotlib.axes._subplots.AxesSubplot at 0x15c0cbe0438>"
      ]
     },
     "execution_count": 29,
     "metadata": {},
     "output_type": "execute_result"
    },
    {
     "data": {
      "image/png": "[encoded data removed]",
      "text/plain": [
       "<matplotlib.figure.Figure at 0x15c0cc3e5c0>"
      ]
     },
     "metadata": {},
     "output_type": "display_data"
    }
   ],
   "source": [
    "sns.distplot(data.newspaper)"
   ]
  },
  {
   "cell_type": "markdown",
   "metadata": {},
   "source": [
    "## Finding outliers"
   ]
  },
  {
   "cell_type": "code",
   "execution_count": 32,
   "metadata": {
    "collapsed": true
   },
   "outputs": [],
   "source": [
    "data['radio_std'] = (abs(data['radio']-data['radio'].mean()) / data['radio'].std())"
   ]
  },
  {
   "cell_type": "code",
   "execution_count": 51,
   "metadata": {},
   "outputs": [
    {
     "data": {
      "text/html": [
       "<div>\n",
       "<style>\n",
       "    .dataframe thead tr:only-child th {\n",
       "        text-align: right;\n",
       "    }\n",
       "\n",
       "    .dataframe thead th {\n",
       "        text-align: left;\n",
       "    }\n",
       "\n",
       "    .dataframe tbody tr th {\n",
       "        vertical-align: top;\n",
       "    }\n",
       "</style>\n",
       "<table border=\"1\" class=\"dataframe\">\n",
       "  <thead>\n",
       "    <tr style=\"text-align: right;\">\n",
       "      <th></th>\n",
       "      <th>TV</th>\n",
       "      <th>radio</th>\n",
       "      <th>newspaper</th>\n",
       "      <th>sales</th>\n",
       "      <th>radio_std</th>\n",
       "      <th>TV_std</th>\n",
       "      <th>newspaper_std</th>\n",
       "    </tr>\n",
       "  </thead>\n",
       "  <tbody>\n",
       "    <tr>\n",
       "      <th>59</th>\n",
       "      <td>210.8</td>\n",
       "      <td>49.6</td>\n",
       "      <td>37.7</td>\n",
       "      <td>23.8</td>\n",
       "      <td>1.773849</td>\n",
       "      <td>0.742625</td>\n",
       "      <td>0.328120</td>\n",
       "    </tr>\n",
       "    <tr>\n",
       "      <th>56</th>\n",
       "      <td>198.9</td>\n",
       "      <td>49.4</td>\n",
       "      <td>60.0</td>\n",
       "      <td>23.7</td>\n",
       "      <td>1.760378</td>\n",
       "      <td>0.604018</td>\n",
       "      <td>1.352060</td>\n",
       "    </tr>\n",
       "    <tr>\n",
       "      <th>38</th>\n",
       "      <td>74.7</td>\n",
       "      <td>49.4</td>\n",
       "      <td>45.7</td>\n",
       "      <td>14.7</td>\n",
       "      <td>1.760378</td>\n",
       "      <td>0.842620</td>\n",
       "      <td>0.695453</td>\n",
       "    </tr>\n",
       "    <tr>\n",
       "      <th>148</th>\n",
       "      <td>243.2</td>\n",
       "      <td>49.0</td>\n",
       "      <td>44.3</td>\n",
       "      <td>25.4</td>\n",
       "      <td>1.733436</td>\n",
       "      <td>1.120009</td>\n",
       "      <td>0.631169</td>\n",
       "    </tr>\n",
       "    <tr>\n",
       "      <th>129</th>\n",
       "      <td>220.3</td>\n",
       "      <td>49.0</td>\n",
       "      <td>3.2</td>\n",
       "      <td>24.7</td>\n",
       "      <td>1.733436</td>\n",
       "      <td>0.853278</td>\n",
       "      <td>1.256002</td>\n",
       "    </tr>\n",
       "    <tr>\n",
       "      <th>176</th>\n",
       "      <td>276.9</td>\n",
       "      <td>48.9</td>\n",
       "      <td>41.8</td>\n",
       "      <td>27.0</td>\n",
       "      <td>1.726701</td>\n",
       "      <td>1.512535</td>\n",
       "      <td>0.516378</td>\n",
       "    </tr>\n",
       "    <tr>\n",
       "      <th>6</th>\n",
       "      <td>8.7</td>\n",
       "      <td>48.9</td>\n",
       "      <td>75.0</td>\n",
       "      <td>7.2</td>\n",
       "      <td>1.726701</td>\n",
       "      <td>1.611365</td>\n",
       "      <td>2.040809</td>\n",
       "    </tr>\n",
       "    <tr>\n",
       "      <th>90</th>\n",
       "      <td>109.8</td>\n",
       "      <td>47.8</td>\n",
       "      <td>51.4</td>\n",
       "      <td>16.7</td>\n",
       "      <td>1.652611</td>\n",
       "      <td>0.433788</td>\n",
       "      <td>0.957177</td>\n",
       "    </tr>\n",
       "    <tr>\n",
       "      <th>16</th>\n",
       "      <td>195.4</td>\n",
       "      <td>47.7</td>\n",
       "      <td>52.9</td>\n",
       "      <td>22.4</td>\n",
       "      <td>1.645876</td>\n",
       "      <td>0.563251</td>\n",
       "      <td>1.026052</td>\n",
       "    </tr>\n",
       "    <tr>\n",
       "      <th>136</th>\n",
       "      <td>48.3</td>\n",
       "      <td>47.0</td>\n",
       "      <td>8.5</td>\n",
       "      <td>11.6</td>\n",
       "      <td>1.598727</td>\n",
       "      <td>1.150118</td>\n",
       "      <td>1.012644</td>\n",
       "    </tr>\n",
       "  </tbody>\n",
       "</table>\n",
       "</div>"
      ],
      "text/plain": [
       "        TV  radio  newspaper  sales  radio_std    TV_std  newspaper_std\n",
       "59   210.8   49.6       37.7   23.8   1.773849  0.742625       0.328120\n",
       "56   198.9   49.4       60.0   23.7   1.760378  0.604018       1.352060\n",
       "38    74.7   49.4       45.7   14.7   1.760378  0.842620       0.695453\n",
       "148  243.2   49.0       44.3   25.4   1.733436  1.120009       0.631169\n",
       "129  220.3   49.0        3.2   24.7   1.733436  0.853278       1.256002\n",
       "176  276.9   48.9       41.8   27.0   1.726701  1.512535       0.516378\n",
       "6      8.7   48.9       75.0    7.2   1.726701  1.611365       2.040809\n",
       "90   109.8   47.8       51.4   16.7   1.652611  0.433788       0.957177\n",
       "16   195.4   47.7       52.9   22.4   1.645876  0.563251       1.026052\n",
       "136   48.3   47.0        8.5   11.6   1.598727  1.150118       1.012644"
      ]
     },
     "execution_count": 51,
     "metadata": {},
     "output_type": "execute_result"
    }
   ],
   "source": [
    "data.sort_values(by='radio_std', ascending=False).head(10)"
   ]
  },
  {
   "cell_type": "code",
   "execution_count": 34,
   "metadata": {
    "collapsed": true
   },
   "outputs": [],
   "source": [
    "data['TV_std'] = (abs(data['TV']-data['TV'].mean()) / data['TV'].std())"
   ]
  },
  {
   "cell_type": "code",
   "execution_count": 50,
   "metadata": {},
   "outputs": [
    {
     "data": {
      "text/html": [
       "<div>\n",
       "<style>\n",
       "    .dataframe thead tr:only-child th {\n",
       "        text-align: right;\n",
       "    }\n",
       "\n",
       "    .dataframe thead th {\n",
       "        text-align: left;\n",
       "    }\n",
       "\n",
       "    .dataframe tbody tr th {\n",
       "        vertical-align: top;\n",
       "    }\n",
       "</style>\n",
       "<table border=\"1\" class=\"dataframe\">\n",
       "  <thead>\n",
       "    <tr style=\"text-align: right;\">\n",
       "      <th></th>\n",
       "      <th>TV</th>\n",
       "      <th>radio</th>\n",
       "      <th>newspaper</th>\n",
       "      <th>sales</th>\n",
       "      <th>radio_std</th>\n",
       "      <th>TV_std</th>\n",
       "      <th>newspaper_std</th>\n",
       "    </tr>\n",
       "  </thead>\n",
       "  <tbody>\n",
       "    <tr>\n",
       "      <th>102</th>\n",
       "      <td>296.4</td>\n",
       "      <td>36.3</td>\n",
       "      <td>100.9</td>\n",
       "      <td>23.8</td>\n",
       "      <td>0.878034</td>\n",
       "      <td>1.739664</td>\n",
       "      <td>3.230048</td>\n",
       "    </tr>\n",
       "    <tr>\n",
       "      <th>43</th>\n",
       "      <td>293.6</td>\n",
       "      <td>27.7</td>\n",
       "      <td>1.8</td>\n",
       "      <td>20.7</td>\n",
       "      <td>0.298785</td>\n",
       "      <td>1.707050</td>\n",
       "      <td>1.320286</td>\n",
       "    </tr>\n",
       "    <tr>\n",
       "      <th>131</th>\n",
       "      <td>0.7</td>\n",
       "      <td>39.6</td>\n",
       "      <td>8.7</td>\n",
       "      <td>1.6</td>\n",
       "      <td>1.100304</td>\n",
       "      <td>1.704546</td>\n",
       "      <td>1.003461</td>\n",
       "    </tr>\n",
       "    <tr>\n",
       "      <th>31</th>\n",
       "      <td>292.9</td>\n",
       "      <td>28.3</td>\n",
       "      <td>43.2</td>\n",
       "      <td>21.4</td>\n",
       "      <td>0.339197</td>\n",
       "      <td>1.698897</td>\n",
       "      <td>0.580661</td>\n",
       "    </tr>\n",
       "    <tr>\n",
       "      <th>36</th>\n",
       "      <td>290.7</td>\n",
       "      <td>4.1</td>\n",
       "      <td>8.5</td>\n",
       "      <td>12.8</td>\n",
       "      <td>1.290782</td>\n",
       "      <td>1.673272</td>\n",
       "      <td>1.012644</td>\n",
       "    </tr>\n",
       "    <tr>\n",
       "      <th>156</th>\n",
       "      <td>4.1</td>\n",
       "      <td>11.6</td>\n",
       "      <td>5.7</td>\n",
       "      <td>3.2</td>\n",
       "      <td>0.785623</td>\n",
       "      <td>1.664944</td>\n",
       "      <td>1.141211</td>\n",
       "    </tr>\n",
       "    <tr>\n",
       "      <th>99</th>\n",
       "      <td>289.7</td>\n",
       "      <td>42.3</td>\n",
       "      <td>51.2</td>\n",
       "      <td>25.4</td>\n",
       "      <td>1.282161</td>\n",
       "      <td>1.661624</td>\n",
       "      <td>0.947994</td>\n",
       "    </tr>\n",
       "    <tr>\n",
       "      <th>79</th>\n",
       "      <td>5.4</td>\n",
       "      <td>29.9</td>\n",
       "      <td>9.4</td>\n",
       "      <td>5.3</td>\n",
       "      <td>0.446965</td>\n",
       "      <td>1.649802</td>\n",
       "      <td>0.971320</td>\n",
       "    </tr>\n",
       "    <tr>\n",
       "      <th>184</th>\n",
       "      <td>287.6</td>\n",
       "      <td>43.0</td>\n",
       "      <td>71.8</td>\n",
       "      <td>26.2</td>\n",
       "      <td>1.329309</td>\n",
       "      <td>1.637164</td>\n",
       "      <td>1.893876</td>\n",
       "    </tr>\n",
       "    <tr>\n",
       "      <th>57</th>\n",
       "      <td>7.3</td>\n",
       "      <td>28.1</td>\n",
       "      <td>41.4</td>\n",
       "      <td>5.5</td>\n",
       "      <td>0.325727</td>\n",
       "      <td>1.627672</td>\n",
       "      <td>0.498011</td>\n",
       "    </tr>\n",
       "  </tbody>\n",
       "</table>\n",
       "</div>"
      ],
      "text/plain": [
       "        TV  radio  newspaper  sales  radio_std    TV_std  newspaper_std\n",
       "102  296.4   36.3      100.9   23.8   0.878034  1.739664       3.230048\n",
       "43   293.6   27.7        1.8   20.7   0.298785  1.707050       1.320286\n",
       "131    0.7   39.6        8.7    1.6   1.100304  1.704546       1.003461\n",
       "31   292.9   28.3       43.2   21.4   0.339197  1.698897       0.580661\n",
       "36   290.7    4.1        8.5   12.8   1.290782  1.673272       1.012644\n",
       "156    4.1   11.6        5.7    3.2   0.785623  1.664944       1.141211\n",
       "99   289.7   42.3       51.2   25.4   1.282161  1.661624       0.947994\n",
       "79     5.4   29.9        9.4    5.3   0.446965  1.649802       0.971320\n",
       "184  287.6   43.0       71.8   26.2   1.329309  1.637164       1.893876\n",
       "57     7.3   28.1       41.4    5.5   0.325727  1.627672       0.498011"
      ]
     },
     "execution_count": 50,
     "metadata": {},
     "output_type": "execute_result"
    }
   ],
   "source": [
    "data.sort_values(by='TV_std', ascending=False).head(10)"
   ]
  },
  {
   "cell_type": "code",
   "execution_count": 35,
   "metadata": {
    "collapsed": true
   },
   "outputs": [],
   "source": [
    "data['newspaper_std'] = (abs(data['newspaper']-data['newspaper'].mean()) / data['newspaper'].std())"
   ]
  },
  {
   "cell_type": "code",
   "execution_count": 52,
   "metadata": {},
   "outputs": [
    {
     "data": {
      "text/html": [
       "<div>\n",
       "<style>\n",
       "    .dataframe thead tr:only-child th {\n",
       "        text-align: right;\n",
       "    }\n",
       "\n",
       "    .dataframe thead th {\n",
       "        text-align: left;\n",
       "    }\n",
       "\n",
       "    .dataframe tbody tr th {\n",
       "        vertical-align: top;\n",
       "    }\n",
       "</style>\n",
       "<table border=\"1\" class=\"dataframe\">\n",
       "  <thead>\n",
       "    <tr style=\"text-align: right;\">\n",
       "      <th></th>\n",
       "      <th>TV</th>\n",
       "      <th>radio</th>\n",
       "      <th>newspaper</th>\n",
       "      <th>sales</th>\n",
       "      <th>radio_std</th>\n",
       "      <th>TV_std</th>\n",
       "      <th>newspaper_std</th>\n",
       "    </tr>\n",
       "  </thead>\n",
       "  <tbody>\n",
       "    <tr>\n",
       "      <th>17</th>\n",
       "      <td>67.8</td>\n",
       "      <td>36.6</td>\n",
       "      <td>114.0</td>\n",
       "      <td>12.5</td>\n",
       "      <td>0.898240</td>\n",
       "      <td>0.922989</td>\n",
       "      <td>3.831556</td>\n",
       "    </tr>\n",
       "    <tr>\n",
       "      <th>102</th>\n",
       "      <td>296.4</td>\n",
       "      <td>36.3</td>\n",
       "      <td>100.9</td>\n",
       "      <td>23.8</td>\n",
       "      <td>0.878034</td>\n",
       "      <td>1.739664</td>\n",
       "      <td>3.230048</td>\n",
       "    </tr>\n",
       "    <tr>\n",
       "      <th>76</th>\n",
       "      <td>16.9</td>\n",
       "      <td>43.7</td>\n",
       "      <td>89.4</td>\n",
       "      <td>8.7</td>\n",
       "      <td>1.376457</td>\n",
       "      <td>1.515854</td>\n",
       "      <td>2.702008</td>\n",
       "    </tr>\n",
       "    <tr>\n",
       "      <th>166</th>\n",
       "      <td>234.5</td>\n",
       "      <td>3.4</td>\n",
       "      <td>84.8</td>\n",
       "      <td>11.9</td>\n",
       "      <td>1.337931</td>\n",
       "      <td>1.018674</td>\n",
       "      <td>2.490791</td>\n",
       "    </tr>\n",
       "    <tr>\n",
       "      <th>119</th>\n",
       "      <td>125.7</td>\n",
       "      <td>36.9</td>\n",
       "      <td>79.2</td>\n",
       "      <td>15.9</td>\n",
       "      <td>0.918447</td>\n",
       "      <td>0.248590</td>\n",
       "      <td>2.233658</td>\n",
       "    </tr>\n",
       "    <tr>\n",
       "      <th>142</th>\n",
       "      <td>193.7</td>\n",
       "      <td>35.4</td>\n",
       "      <td>75.6</td>\n",
       "      <td>19.2</td>\n",
       "      <td>0.817415</td>\n",
       "      <td>0.543450</td>\n",
       "      <td>2.068359</td>\n",
       "    </tr>\n",
       "    <tr>\n",
       "      <th>6</th>\n",
       "      <td>8.7</td>\n",
       "      <td>48.9</td>\n",
       "      <td>75.0</td>\n",
       "      <td>7.2</td>\n",
       "      <td>1.726701</td>\n",
       "      <td>1.611365</td>\n",
       "      <td>2.040809</td>\n",
       "    </tr>\n",
       "    <tr>\n",
       "      <th>125</th>\n",
       "      <td>229.5</td>\n",
       "      <td>32.3</td>\n",
       "      <td>74.2</td>\n",
       "      <td>19.7</td>\n",
       "      <td>0.608616</td>\n",
       "      <td>0.960436</td>\n",
       "      <td>2.004075</td>\n",
       "    </tr>\n",
       "    <tr>\n",
       "      <th>89</th>\n",
       "      <td>88.3</td>\n",
       "      <td>25.5</td>\n",
       "      <td>73.4</td>\n",
       "      <td>12.9</td>\n",
       "      <td>0.150605</td>\n",
       "      <td>0.684212</td>\n",
       "      <td>1.967342</td>\n",
       "    </tr>\n",
       "    <tr>\n",
       "      <th>94</th>\n",
       "      <td>250.9</td>\n",
       "      <td>36.5</td>\n",
       "      <td>72.3</td>\n",
       "      <td>22.2</td>\n",
       "      <td>0.891505</td>\n",
       "      <td>1.209696</td>\n",
       "      <td>1.916834</td>\n",
       "    </tr>\n",
       "  </tbody>\n",
       "</table>\n",
       "</div>"
      ],
      "text/plain": [
       "        TV  radio  newspaper  sales  radio_std    TV_std  newspaper_std\n",
       "17    67.8   36.6      114.0   12.5   0.898240  0.922989       3.831556\n",
       "102  296.4   36.3      100.9   23.8   0.878034  1.739664       3.230048\n",
       "76    16.9   43.7       89.4    8.7   1.376457  1.515854       2.702008\n",
       "166  234.5    3.4       84.8   11.9   1.337931  1.018674       2.490791\n",
       "119  125.7   36.9       79.2   15.9   0.918447  0.248590       2.233658\n",
       "142  193.7   35.4       75.6   19.2   0.817415  0.543450       2.068359\n",
       "6      8.7   48.9       75.0    7.2   1.726701  1.611365       2.040809\n",
       "125  229.5   32.3       74.2   19.7   0.608616  0.960436       2.004075\n",
       "89    88.3   25.5       73.4   12.9   0.150605  0.684212       1.967342\n",
       "94   250.9   36.5       72.3   22.2   0.891505  1.209696       1.916834"
      ]
     },
     "execution_count": 52,
     "metadata": {},
     "output_type": "execute_result"
    }
   ],
   "source": [
    "data.sort_values(by='newspaper_std', ascending=False).head(10)"
   ]
  },
  {
   "cell_type": "markdown",
   "metadata": {},
   "source": [
    "#### Outliers:"
   ]
  },
  {
   "cell_type": "code",
   "execution_count": 45,
   "metadata": {},
   "outputs": [
    {
     "data": {
      "text/html": [
       "<div>\n",
       "<style>\n",
       "    .dataframe thead tr:only-child th {\n",
       "        text-align: right;\n",
       "    }\n",
       "\n",
       "    .dataframe thead th {\n",
       "        text-align: left;\n",
       "    }\n",
       "\n",
       "    .dataframe tbody tr th {\n",
       "        vertical-align: top;\n",
       "    }\n",
       "</style>\n",
       "<table border=\"1\" class=\"dataframe\">\n",
       "  <thead>\n",
       "    <tr style=\"text-align: right;\">\n",
       "      <th></th>\n",
       "      <th>TV</th>\n",
       "      <th>radio</th>\n",
       "      <th>newspaper</th>\n",
       "      <th>sales</th>\n",
       "      <th>radio_std</th>\n",
       "      <th>TV_std</th>\n",
       "      <th>newspaper_std</th>\n",
       "    </tr>\n",
       "  </thead>\n",
       "  <tbody>\n",
       "    <tr>\n",
       "      <th>6</th>\n",
       "      <td>8.7</td>\n",
       "      <td>48.9</td>\n",
       "      <td>75.0</td>\n",
       "      <td>7.2</td>\n",
       "      <td>1.726701</td>\n",
       "      <td>1.611365</td>\n",
       "      <td>2.040809</td>\n",
       "    </tr>\n",
       "    <tr>\n",
       "      <th>17</th>\n",
       "      <td>67.8</td>\n",
       "      <td>36.6</td>\n",
       "      <td>114.0</td>\n",
       "      <td>12.5</td>\n",
       "      <td>0.898240</td>\n",
       "      <td>0.922989</td>\n",
       "      <td>3.831556</td>\n",
       "    </tr>\n",
       "    <tr>\n",
       "      <th>76</th>\n",
       "      <td>16.9</td>\n",
       "      <td>43.7</td>\n",
       "      <td>89.4</td>\n",
       "      <td>8.7</td>\n",
       "      <td>1.376457</td>\n",
       "      <td>1.515854</td>\n",
       "      <td>2.702008</td>\n",
       "    </tr>\n",
       "    <tr>\n",
       "      <th>102</th>\n",
       "      <td>296.4</td>\n",
       "      <td>36.3</td>\n",
       "      <td>100.9</td>\n",
       "      <td>23.8</td>\n",
       "      <td>0.878034</td>\n",
       "      <td>1.739664</td>\n",
       "      <td>3.230048</td>\n",
       "    </tr>\n",
       "    <tr>\n",
       "      <th>119</th>\n",
       "      <td>125.7</td>\n",
       "      <td>36.9</td>\n",
       "      <td>79.2</td>\n",
       "      <td>15.9</td>\n",
       "      <td>0.918447</td>\n",
       "      <td>0.248590</td>\n",
       "      <td>2.233658</td>\n",
       "    </tr>\n",
       "    <tr>\n",
       "      <th>125</th>\n",
       "      <td>229.5</td>\n",
       "      <td>32.3</td>\n",
       "      <td>74.2</td>\n",
       "      <td>19.7</td>\n",
       "      <td>0.608616</td>\n",
       "      <td>0.960436</td>\n",
       "      <td>2.004075</td>\n",
       "    </tr>\n",
       "    <tr>\n",
       "      <th>142</th>\n",
       "      <td>193.7</td>\n",
       "      <td>35.4</td>\n",
       "      <td>75.6</td>\n",
       "      <td>19.2</td>\n",
       "      <td>0.817415</td>\n",
       "      <td>0.543450</td>\n",
       "      <td>2.068359</td>\n",
       "    </tr>\n",
       "    <tr>\n",
       "      <th>166</th>\n",
       "      <td>234.5</td>\n",
       "      <td>3.4</td>\n",
       "      <td>84.8</td>\n",
       "      <td>11.9</td>\n",
       "      <td>1.337931</td>\n",
       "      <td>1.018674</td>\n",
       "      <td>2.490791</td>\n",
       "    </tr>\n",
       "  </tbody>\n",
       "</table>\n",
       "</div>"
      ],
      "text/plain": [
       "        TV  radio  newspaper  sales  radio_std    TV_std  newspaper_std\n",
       "6      8.7   48.9       75.0    7.2   1.726701  1.611365       2.040809\n",
       "17    67.8   36.6      114.0   12.5   0.898240  0.922989       3.831556\n",
       "76    16.9   43.7       89.4    8.7   1.376457  1.515854       2.702008\n",
       "102  296.4   36.3      100.9   23.8   0.878034  1.739664       3.230048\n",
       "119  125.7   36.9       79.2   15.9   0.918447  0.248590       2.233658\n",
       "125  229.5   32.3       74.2   19.7   0.608616  0.960436       2.004075\n",
       "142  193.7   35.4       75.6   19.2   0.817415  0.543450       2.068359\n",
       "166  234.5    3.4       84.8   11.9   1.337931  1.018674       2.490791"
      ]
     },
     "execution_count": 45,
     "metadata": {},
     "output_type": "execute_result"
    }
   ],
   "source": [
    "data[data.newspaper_std > 2]"
   ]
  },
  {
   "cell_type": "markdown",
   "metadata": {},
   "source": [
    "## Skewness and Kurtosis"
   ]
  },
  {
   "cell_type": "code",
   "execution_count": 47,
   "metadata": {},
   "outputs": [
    {
     "name": "stdout",
     "output_type": "stream",
     "text": [
      "TV Skewness:  -0.0698533621327\n",
      "TV Kurtosis:  -1.22649482423\n"
     ]
    }
   ],
   "source": [
    "print('TV Skewness: ', data.TV.skew())\n",
    "print('TV Kurtosis: ', data.TV.kurt())"
   ]
  },
  {
   "cell_type": "code",
   "execution_count": 48,
   "metadata": {},
   "outputs": [
    {
     "name": "stdout",
     "output_type": "stream",
     "text": [
      "Radio Skewness:  0.0941746314966\n",
      "Radio Kurtosis:  -1.26040140331\n"
     ]
    }
   ],
   "source": [
    "print('Radio Skewness: ', data.radio.skew())\n",
    "print('Radio Kurtosis: ', data.radio.kurt())"
   ]
  },
  {
   "cell_type": "code",
   "execution_count": 49,
   "metadata": {},
   "outputs": [
    {
     "name": "stdout",
     "output_type": "stream",
     "text": [
      "Newspaper Skewness:  0.894720407499\n",
      "Newspaper Kurtosis:  0.649501909138\n"
     ]
    }
   ],
   "source": [
    "print('Newspaper Skewness: ', data.newspaper.skew())\n",
    "print('Newspaper Kurtosis: ', data.newspaper.kurt())"
   ]
  },
  {
   "cell_type": "markdown",
   "metadata": {},
   "source": [
    "## Question: Which variable set has the larger standard deviation? What is its impact?"
   ]
  },
  {
   "cell_type": "markdown",
   "metadata": {
    "collapsed": true
   },
   "source": [
    "The largest standard deviation comes from the variable TV. That means that the values are spread out over a wide range of values and not concentrated around the mean"
   ]
  }
 ],
 "metadata": {
  "kernelspec": {
   "display_name": "Python 3",
   "language": "python",
   "name": "python3"
  },
  "language_info": {
   "codemirror_mode": {
    "name": "ipython",
    "version": 3
   },
   "file_extension": ".py",
   "mimetype": "text/x-python",
   "name": "python",
   "nbconvert_exporter": "python",
   "pygments_lexer": "ipython3",
   "version": "3.6.0"
  }
 },
 "nbformat": 4,
 "nbformat_minor": 2
}
