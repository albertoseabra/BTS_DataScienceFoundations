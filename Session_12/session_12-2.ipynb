{
 "cells": [
  {
   "cell_type": "markdown",
   "metadata": {},
   "source": [
    "# Graphs in Python"
   ]
  },
  {
   "cell_type": "markdown",
   "metadata": {},
   "source": [
    "## Origins of Graph Theory\n",
    "Before we start with the actual implementations of graphs in Python and before we start with the introduction of Python modules dealing with graphs, we want to devote ourselves to the origins of graph theory.\n",
    "The origins take us back in time to the Künigsberg of the 18th century. Königsberg was a city in Prussia that time. The river Pregel flowed through the town, creating two islands. The city and the islands were connected by seven bridges as shown. The inhabitants of the city were moved by the question if it was possible to take a walk through the town by visiting each area of the town and crossing each bridge only once. Every bridge must have been crossed completely, i.e., it is not allowed to walk halfway onto a bridge and then turn around and later cross the other half from the other side. The walk needs not start and end at the same spot. Leonhard Euler solved the problem in 1735 by proving that it is not possible. He found out that the choice of a route inside each land area is irrelevant and that the only thing which mattered is the order (or the sequence) in which the bridges are crossed. He had formulated an abstraction of the problem, eliminating unnecessary facts and focusing on the land areas and the bridges connecting them. This way, he created the foundations of graph theory. If we see a \"land area\" as a vertex and each bridge as an edge, we have \"reduced\" the problem to a graph.\n",
    "<img src=koenigsberg_bridges.png>\n",
    "## Introduction into Graph Theory Using Python\n",
    "<img src=simple_graph_isolated.png>\n",
    "Before we start our treatize on possible Python representations of graphs, we want to present some general definitions of graphs and its components.\n",
    "A \"graph\" in mathematics and computer science consists of \"nodes\", also known as \"vertices\". Nodes may or may not be connected with one another. In our illustration, - which is a pictorial representation of a graph, - the node \"a\" is connected with the node \"c\", but \"a\" is not connected with \"b\". The connecting line between two nodes is called an edge. If the edges between the nodes are undirected, the graph is called an undirected graph. If an edge is directed from one vertex (node) to another, a graph is called a directed graph. An directed edge is called an arc.\n",
    "Though graphs may look very theoretical, many practical problems can be represented by graphs. They are often used to model problems or situations in physics, biology, psychology and above all in computer science. In computer science, graphs are used to represent networks of communication, data organization, computational devices, the flow of computation.\n",
    "In the latter case, the are used to represent the data organisation, like the file system of an operating system, or communication networks. The link structure of websites can be seen as a graph as well, i.e., a directed graph, because a link is a directed edge or an arc.\n",
    "Python has no built-in data type or class for graphs, but it is easy to implement them in Python. One data type is ideal for representing graphs in Python, i.e., dictionaries. The graph in our illustration can be implemented in the following way: "
   ]
  },
  {
   "cell_type": "code",
   "execution_count": 2,
   "metadata": {
    "collapsed": true
   },
   "outputs": [],
   "source": [
    "graph = {\"a\" : [\"c\"],\n",
    "         \"b\" : [\"c\", \"e\"],\n",
    "         \"c\" : [\"a\", \"b\", \"d\", \"e\"],\n",
    "         \"d\" : [\"c\"],\n",
    "         \"e\" : [\"c\", \"b\"],\n",
    "         \"f\" : []\n",
    "        }"
   ]
  },
  {
   "cell_type": "markdown",
   "metadata": {},
   "source": [
    "The keys of the dictionary above are the nodes of our graph. The corresponding values are lists with the nodes, which are connecting by an edge. There is no simpler and more elegant way to represent a graph.\n",
    "\n",
    "An edge can be seen as a 2-tuple with nodes as elements, i.e. (\"a\",\"b\")\n",
    "\n",
    "Function to generate the list of all edges: "
   ]
  },
  {
   "cell_type": "code",
   "execution_count": 3,
   "metadata": {},
   "outputs": [
    {
     "name": "stdout",
     "output_type": "stream",
     "text": [
      "[('a', 'c'), ('b', 'c'), ('b', 'e'), ('c', 'a'), ('c', 'b'), ('c', 'd'), ('c', 'e'), ('d', 'c'), ('e', 'c'), ('e', 'b')]\n"
     ]
    }
   ],
   "source": [
    "def generate_edges(graph):\n",
    "    edges = []\n",
    "    for node in graph:\n",
    "        for neighbour in graph[node]:\n",
    "            edges.append((node, neighbour))\n",
    "\n",
    "    return edges\n",
    "\n",
    "print(generate_edges(graph))"
   ]
  },
  {
   "cell_type": "markdown",
   "metadata": {},
   "source": [
    "As we can see, there is no edge containing the node \"f\". \"f\" is an isolated node of our graph.\n",
    "The following Python function calculates the isolated nodes of a given graph: "
   ]
  },
  {
   "cell_type": "code",
   "execution_count": 4,
   "metadata": {
    "collapsed": true
   },
   "outputs": [],
   "source": [
    "def find_isolated_nodes(graph):\n",
    "    \"\"\" returns a list of isolated nodes. \"\"\"\n",
    "    isolated = []\n",
    "    for node in graph:\n",
    "        if not graph[node]:\n",
    "            isolated += node\n",
    "    return isolated"
   ]
  },
  {
   "cell_type": "code",
   "execution_count": 5,
   "metadata": {},
   "outputs": [
    {
     "data": {
      "text/plain": [
       "['f']"
      ]
     },
     "execution_count": 5,
     "metadata": {},
     "output_type": "execute_result"
    }
   ],
   "source": [
    "find_isolated_nodes(graph)"
   ]
  },
  {
   "cell_type": "markdown",
   "metadata": {},
   "source": [
    "## Graphs as a Python Class\n",
    "Before we go on with writing functions for graphs, we have a first go at a Python graph class implementation. If you look at the following listing of our class, you can see in the \\_\\_init\\_\\_-method that we use a dictionary \"self.\\_\\_graph\\_dict\" for storing the vertices and their corresponding adjacent vertices. \n",
    "<img src=simple_graph_with_loop.png>"
   ]
  },
  {
   "cell_type": "code",
   "execution_count": 6,
   "metadata": {},
   "outputs": [
    {
     "name": "stdout",
     "output_type": "stream",
     "text": [
      "Vertices of graph:\n",
      "['a', 'b', 'c', 'd', 'e', 'f']\n",
      "Edges of graph:\n",
      "[{'d', 'a'}, {'c', 'b'}, {'c'}, {'c', 'd'}, {'c', 'e'}]\n",
      "Add vertex:\n",
      "Vertices of graph:\n",
      "['a', 'b', 'c', 'd', 'e', 'f', 'z']\n",
      "Add an edge:\n",
      "Vertices of graph:\n",
      "['a', 'b', 'c', 'd', 'e', 'f', 'z']\n",
      "Edges of graph:\n",
      "[{'d', 'a'}, {'c', 'b'}, {'c'}, {'c', 'd'}, {'c', 'e'}, {'z', 'a'}]\n",
      "Adding an edge {\"x\",\"y\"} with new vertices:\n",
      "Vertices of graph:\n",
      "['a', 'b', 'c', 'd', 'e', 'f', 'z', 'x']\n",
      "Edges of graph:\n",
      "[{'d', 'a'}, {'c', 'b'}, {'c'}, {'c', 'd'}, {'c', 'e'}, {'z', 'a'}, {'x', 'y'}]\n"
     ]
    }
   ],
   "source": [
    "\"\"\" A Python Class\n",
    "A simple Python graph class, demonstrating the essential \n",
    "facts and functionalities of graphs.\n",
    "\"\"\"\n",
    "\n",
    "\n",
    "class Graph(object):\n",
    "    \n",
    "    def __init__(self, graph_dict=None):\n",
    "        \"\"\" initializes a graph object \n",
    "            If no dictionary or None is given,\n",
    "            an empty dictionary will be used\n",
    "        \"\"\"\n",
    "        if graph_dict == None:\n",
    "            graph_dict = {}\n",
    "        self.__graph_dict = graph_dict\n",
    "\n",
    "    def vertices(self):\n",
    "        \"\"\" returns the vertices of a graph \"\"\"\n",
    "        return list(self.__graph_dict.keys())\n",
    "\n",
    "    def edges(self):\n",
    "        \"\"\" returns the edges of a graph \"\"\"\n",
    "        return self.__generate_edges()\n",
    "\n",
    "    def add_vertex(self, vertex):\n",
    "        \"\"\" If the vertex \"vertex\" is not in \n",
    "            self.__graph_dict, a key \"vertex\" with an empty\n",
    "            list as a value is added to the dictionary. \n",
    "            Otherwise nothing has to be done. \n",
    "        \"\"\"\n",
    "        if vertex not in self.__graph_dict:\n",
    "            self.__graph_dict[vertex] = []\n",
    "\n",
    "    def add_edge(self, edge):\n",
    "        \"\"\" assumes that edge is of type set, tuple or list\n",
    "        \"\"\"\n",
    "        edge = set(edge)\n",
    "        (vertex1, vertex2) = tuple(edge)\n",
    "        if vertex1 in self.__graph_dict:\n",
    "            self.__graph_dict[vertex1].append(vertex2)\n",
    "        else:\n",
    "            self.__graph_dict[vertex1] = [vertex2]\n",
    "            \n",
    "    def __generate_edges(self):\n",
    "        \"\"\" A static method generating the edges of the \n",
    "            graph \"graph\". Edges are represented as sets \n",
    "            with one (a loop back to the vertex) or two \n",
    "            vertices \n",
    "        \"\"\"\n",
    "        edges = []\n",
    "        for vertex in self.__graph_dict:\n",
    "            for neighbour in self.__graph_dict[vertex]:\n",
    "                if {neighbour, vertex} not in edges:\n",
    "                    edges.append({vertex, neighbour})\n",
    "        return edges\n",
    "\n",
    "    def __str__(self):\n",
    "        res = \"vertices: \"\n",
    "        for k in self.__graph_dict:\n",
    "            res += str(k) + \" \"\n",
    "        res += \"\\nedges: \"\n",
    "        for edge in self.__generate_edges():\n",
    "            res += str(edge) + \" \"\n",
    "        return res\n",
    "    \n",
    "    '''\n",
    "    def find_path(self, start_vertex, end_vertex, path=None):\n",
    "        \"\"\" find a path from start_vertex to end_vertex\n",
    "        in graph \"\"\"\n",
    "        if path == None:\n",
    "            path = []\n",
    "        graph = self.__graph_dict\n",
    "        path = path + [start_vertex]\n",
    "        if start_vertex == end_vertex:\n",
    "            return path\n",
    "        if start_vertex not in graph:\n",
    "            return None\n",
    "        for vertex in graph[start_vertex]:\n",
    "            if vertex not in path:\n",
    "                extended_path = self.find_path(vertex, \n",
    "                                               end_vertex, \n",
    "                                               path)\n",
    "                if extended_path: \n",
    "                    return extended_path\n",
    "        return None\n",
    "    '''\n",
    "        \n",
    "    '''\n",
    "    def find_all_paths(self, start_vertex, end_vertex, path=[]):\n",
    "        \"\"\" find all paths from start_vertex to\n",
    "        end_vertex in graph \"\"\"\n",
    "        graph = self.__graph_dict\n",
    "        path = path + [start_vertex]\n",
    "        if start_vertex == end_vertex:\n",
    "            return [path]\n",
    "        if start_vertex not in graph:\n",
    "            return []\n",
    "        paths = []\n",
    "        for vertex in graph[start_vertex]:\n",
    "            if vertex not in path:\n",
    "                extended_paths = self.find_all_paths(vertex, \n",
    "                                                     end_vertex,\n",
    "                                                     path)\n",
    "                for p in extended_paths:\n",
    "                    paths.append(p)\n",
    "        return paths\n",
    "    '''\n",
    "        \n",
    "if __name__ == \"__main__\":\n",
    "\n",
    "    g = {\"a\" : [\"d\"],\n",
    "         \"b\" : [\"c\"],\n",
    "         \"c\" : [\"b\", \"c\", \"d\", \"e\"],\n",
    "         \"d\" : [\"a\", \"c\"],\n",
    "         \"e\" : [\"c\"],\n",
    "         \"f\" : []\n",
    "        }\n",
    "\n",
    "\n",
    "    graph = Graph(g)\n",
    "\n",
    "    print(\"Vertices of graph:\")\n",
    "    print(graph.vertices())\n",
    "\n",
    "    print(\"Edges of graph:\")\n",
    "    print(graph.edges())\n",
    "\n",
    "    print(\"Add vertex:\")\n",
    "    graph.add_vertex(\"z\")\n",
    "\n",
    "    print(\"Vertices of graph:\")\n",
    "    print(graph.vertices())\n",
    " \n",
    "    print(\"Add an edge:\")\n",
    "    graph.add_edge({\"a\",\"z\"})\n",
    "    \n",
    "    print(\"Vertices of graph:\")\n",
    "    print(graph.vertices())\n",
    "\n",
    "    print(\"Edges of graph:\")\n",
    "    print(graph.edges())\n",
    "\n",
    "    print('Adding an edge {\"x\",\"y\"} with new vertices:')\n",
    "    graph.add_edge({\"x\",\"y\"})\n",
    "    print(\"Vertices of graph:\")\n",
    "    print(graph.vertices())\n",
    "    print(\"Edges of graph:\")\n",
    "    print(graph.edges())"
   ]
  },
  {
   "cell_type": "markdown",
   "metadata": {},
   "source": [
    "## Paths in Graphs\n",
    "We want to find now the shortest path from one node to another node. Before we come to the Python code for this problem, we will have to present some formal definitions.\n",
    "\n",
    "**Adjacent vertices:**\n",
    "Two vertices are adjacent when they are both incident to a common edge.\n",
    "\n",
    "**Path in an undirected Graph:**\n",
    "A path in an undirected graph is a sequence of vertices $P = ( v_1, v_2, ..., v_n )$ such that $v_i$ is adjacent to $v_{i+1}$ for 1 ≤ i < n. Such a path P is called a path of length n from $v_1$ to $v_n$.\n",
    "\n",
    "**Simple Path:**\n",
    "A path with no repeated vertices is called a simple path.\n",
    "\n",
    "Example:\n",
    "(a, c, e) is a simple path in our graph, as well as (a,c,e,b). (a,c,e,b,c,d) is a path but not a simple path, because the node c appears twice.\n",
    "\n",
    "The following method finds a path from a start vertex to an end vertex: "
   ]
  },
  {
   "cell_type": "code",
   "execution_count": 9,
   "metadata": {
    "collapsed": true
   },
   "outputs": [],
   "source": [
    "def find_path(self, start_vertex, end_vertex, path=None):\n",
    "    \"\"\" find a path from start_vertex to end_vertex\n",
    "    in graph \"\"\"\n",
    "    if path == None:\n",
    "        path = []\n",
    "    graph = self.__graph_dict\n",
    "    path = path + [start_vertex]\n",
    "    if start_vertex == end_vertex:\n",
    "        return path\n",
    "    if start_vertex not in graph:\n",
    "        return None\n",
    "    for vertex in graph[start_vertex]:\n",
    "        if vertex not in path:\n",
    "            extended_path = self.find_path(vertex, \n",
    "                                           end_vertex, \n",
    "                                           path)\n",
    "            if extended_path: \n",
    "                return extended_path\n",
    "    return None"
   ]
  },
  {
   "cell_type": "markdown",
   "metadata": {},
   "source": [
    "If we update our graph class including the find_path method (don't forget to run the cell after you add the method!), we can check the way of working of our find\\_path function: "
   ]
  },
  {
   "cell_type": "code",
   "execution_count": 2,
   "metadata": {
    "scrolled": true
   },
   "outputs": [
    {
     "name": "stdout",
     "output_type": "stream",
     "text": [
      "Vertices of graph:\n",
      "['a', 'c', 'b', 'e', 'd', 'f']\n",
      "Edges of graph:\n",
      "[set(['a', 'd']), set(['c', 'b']), set(['c']), set(['c', 'd']), set(['c', 'e'])]\n",
      "The path from vertex \"a\" to vertex \"b\":\n",
      "['a', 'd', 'c', 'b']\n",
      "The path from vertex \"a\" to vertex \"f\":\n",
      "None\n",
      "The path from vertex \"c\" to vertex \"c\":\n",
      "['c']\n"
     ]
    }
   ],
   "source": [
    "g = { \"a\" : [\"d\"],\n",
    "      \"b\" : [\"c\"],\n",
    "      \"c\" : [\"b\", \"c\", \"d\", \"e\"],\n",
    "      \"d\" : [\"a\", \"c\"],\n",
    "      \"e\" : [\"c\"],\n",
    "      \"f\" : []\n",
    "    }\n",
    "\n",
    "graph = Graph(g)\n",
    "\n",
    "print(\"Vertices of graph:\")\n",
    "print(graph.vertices())\n",
    "\n",
    "print(\"Edges of graph:\")\n",
    "print(graph.edges())\n",
    "\n",
    "\n",
    "print('The path from vertex \"a\" to vertex \"b\":')\n",
    "path = graph.find_path(\"a\", \"b\")\n",
    "print(path)\n",
    "\n",
    "print('The path from vertex \"a\" to vertex \"f\":')\n",
    "path = graph.find_path(\"a\", \"f\")\n",
    "print(path)\n",
    "\n",
    "print('The path from vertex \"c\" to vertex \"c\":')\n",
    "path = graph.find_path(\"c\", \"c\")\n",
    "print(path)"
   ]
  },
  {
   "cell_type": "markdown",
   "metadata": {},
   "source": [
    "The method find_all_paths finds all the paths between a start vertex to an end vertex:"
   ]
  },
  {
   "cell_type": "code",
   "execution_count": 4,
   "metadata": {
    "collapsed": true
   },
   "outputs": [],
   "source": [
    "def find_all_paths(self, start_vertex, end_vertex, path=[]):\n",
    "    \"\"\" find all paths from start_vertex to\n",
    "    end_vertex in graph \"\"\"\n",
    "    graph = self.__graph_dict\n",
    "    path = path + [start_vertex]\n",
    "    if start_vertex == end_vertex:\n",
    "        return [path]\n",
    "    if start_vertex not in graph:\n",
    "        return []\n",
    "    paths = []\n",
    "    for vertex in graph[start_vertex]:\n",
    "        if vertex not in path:\n",
    "            extended_paths = self.find_all_paths(vertex, \n",
    "                                                 end_vertex,\n",
    "                                                 path)\n",
    "            for p in extended_paths:\n",
    "                paths.append(p)\n",
    "    return paths"
   ]
  },
  {
   "cell_type": "markdown",
   "metadata": {
    "collapsed": true
   },
   "source": [
    "We slightly changed our example graph by adding edges from \"a\" to \"f\" and from \"f\" to \"d\" to test the previously defined method: "
   ]
  },
  {
   "cell_type": "code",
   "execution_count": 7,
   "metadata": {},
   "outputs": [
    {
     "ename": "NameError",
     "evalue": "name 'Graph' is not defined",
     "output_type": "error",
     "traceback": [
      "\u001b[0;31m---------------------------------------------------------------------------\u001b[0m",
      "\u001b[0;31mNameError\u001b[0m                                 Traceback (most recent call last)",
      "\u001b[0;32m<ipython-input-7-828c4e1a678b>\u001b[0m in \u001b[0;36m<module>\u001b[0;34m()\u001b[0m\n\u001b[1;32m      8\u001b[0m \u001b[0;34m\u001b[0m\u001b[0m\n\u001b[1;32m      9\u001b[0m \u001b[0;34m\u001b[0m\u001b[0m\n\u001b[0;32m---> 10\u001b[0;31m \u001b[0mgraph\u001b[0m \u001b[0;34m=\u001b[0m \u001b[0mGraph\u001b[0m\u001b[0;34m(\u001b[0m\u001b[0mg\u001b[0m\u001b[0;34m)\u001b[0m\u001b[0;34m\u001b[0m\u001b[0m\n\u001b[0m\u001b[1;32m     11\u001b[0m \u001b[0;34m\u001b[0m\u001b[0m\n\u001b[1;32m     12\u001b[0m \u001b[0mprint\u001b[0m\u001b[0;34m(\u001b[0m\u001b[0;34m\"Vertices of graph:\"\u001b[0m\u001b[0;34m)\u001b[0m\u001b[0;34m\u001b[0m\u001b[0m\n",
      "\u001b[0;31mNameError\u001b[0m: name 'Graph' is not defined"
     ]
    }
   ],
   "source": [
    "g = { \"a\" : [\"d\", \"f\"],\n",
    "      \"b\" : [\"c\"],\n",
    "      \"c\" : [\"b\", \"c\", \"d\", \"e\"],\n",
    "      \"d\" : [\"a\", \"c\"],\n",
    "      \"e\" : [\"c\"],\n",
    "      \"f\" : [\"d\"]\n",
    "    }\n",
    "\n",
    "\n",
    "graph = Graph(g)\n",
    "\n",
    "print(\"Vertices of graph:\")\n",
    "print(graph.vertices())\n",
    "\n",
    "print(\"Edges of graph:\")\n",
    "print(graph.edges())\n",
    "\n",
    "\n",
    "print('All paths from vertex \"a\" to vertex \"b\":')\n",
    "path = graph.find_all_paths(\"a\", \"b\")\n",
    "print(path)\n",
    "\n",
    "print('All paths from vertex \"a\" to vertex \"f\":')\n",
    "path = graph.find_all_paths(\"a\", \"f\")\n",
    "print(path)\n",
    "\n",
    "print('All paths from vertex \"c\" to vertex \"c\":')\n",
    "path = graph.find_all_paths(\"c\", \"c\")\n",
    "print(path)"
   ]
  },
  {
   "cell_type": "markdown",
   "metadata": {},
   "source": [
    "## Degree\n",
    "<img src=simple_graph_with_loop.png>\n",
    "The degree of a vertex v in a graph is the number of edges connecting it, with loops counted twice. The degree of a vertex v is denoted deg(v). The maximum degree of a graph G, denoted by Δ(G), and the minimum degree of a graph, denoted by δ(G), are the maximum and minimum degree of its vertices.\n",
    "\n",
    "In the example graph, the maximum degree is 5 at vertex c and the minimum degree is 0, i.e, the isolated vertex f.\n",
    "\n",
    "If all the degrees in a graph are the same, the graph is a regular graph. In a regular graph, all degrees are the same, and so we can speak of the degree of the graph.\n",
    "\n",
    "\n",
    "The degree sum formula (Handshaking lemma):\n",
    "\n",
    "$∑_{v ∈ V}$deg(v) = 2 |E|\n",
    "\n",
    "This means that the sum of degrees of all the vertices is equal to the number of edges multiplied by 2. We can conclude that the number of vertices with odd degree has to be even. This statement is known as the handshaking lemma. The name \"handshaking lemma\" stems from a popular mathematical problem: In any group of people the number of people who have shaken hands with an odd number of other people from the group is even.\n",
    "\n",
    "The following method calculates the degree of a vertex: "
   ]
  },
  {
   "cell_type": "code",
   "execution_count": 8,
   "metadata": {
    "collapsed": true
   },
   "outputs": [],
   "source": [
    "def vertex_degree(self, vertex):\n",
    "    \"\"\" The degree of a vertex is the number of edges connecting\n",
    "        it, i.e., the number of adjacent vertices. Loops are counted\n",
    "        double, i.e. every occurence of vertex in the list\n",
    "        of adjacent vertices. \"\"\" \n",
    "    adj_vertices =  self.__graph_dict[vertex]\n",
    "    degree = len(adj_vertices) + adj_vertices.count(vertex)\n",
    "    return degree"
   ]
  },
  {
   "cell_type": "markdown",
   "metadata": {},
   "source": [
    "The following method calculates a list containing the isolated vertices of a graph: "
   ]
  },
  {
   "cell_type": "code",
   "execution_count": 8,
   "metadata": {
    "collapsed": true
   },
   "outputs": [],
   "source": [
    "def find_isolated_vertices(self):\n",
    "    \"\"\" returns a list of isolated vertices. \"\"\"\n",
    "    graph = self.__graph_dict\n",
    "    isolated = []\n",
    "    for vertex in graph:\n",
    "        print(isolated, vertex)\n",
    "        if not graph[vertex]:\n",
    "            isolated += [vertex]\n",
    "    return isolated"
   ]
  },
  {
   "cell_type": "markdown",
   "metadata": {},
   "source": [
    "## Degree Sequence\n",
    "The degree sequence of an undirected graph is defined as the sequence of its vertex degrees in a non-increasing order.\n",
    "The following method returns a tuple with the degree sequence of the instance graph: "
   ]
  },
  {
   "cell_type": "code",
   "execution_count": 9,
   "metadata": {
    "collapsed": true
   },
   "outputs": [],
   "source": [
    "def degree_sequence(self):\n",
    "    \"\"\" calculates the degree sequence \"\"\"\n",
    "    seq = []\n",
    "    for vertex in self.__graph_dict:\n",
    "        seq.append(self.vertex_degree(vertex))\n",
    "    seq.sort(reverse=True)\n",
    "    return tuple(seq)"
   ]
  }
 ],
 "metadata": {
  "kernelspec": {
   "display_name": "Python 3",
   "language": "python",
   "name": "python3"
  },
  "language_info": {
   "codemirror_mode": {
    "name": "ipython",
    "version": 3
   },
   "file_extension": ".py",
   "mimetype": "text/x-python",
   "name": "python",
   "nbconvert_exporter": "python",
   "pygments_lexer": "ipython3",
   "version": "3.6.2"
  }
 },
 "nbformat": 4,
 "nbformat_minor": 2
}
