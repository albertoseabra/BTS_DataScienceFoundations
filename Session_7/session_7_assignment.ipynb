{
 "cells": [
  {
   "cell_type": "code",
   "execution_count": 57,
   "metadata": {
    "collapsed": true
   },
   "outputs": [],
   "source": [
    "import nltk\n",
    "from nltk import word_tokenize\n",
    "from nltk.corpus import stopwords\n",
    "import os\n",
    "from sklearn.feature_extraction.text import TfidfVectorizer\n",
    "import math\n"
   ]
  },
  {
   "cell_type": "code",
   "execution_count": 7,
   "metadata": {
    "collapsed": true
   },
   "outputs": [],
   "source": [
    "os.chdir('C:\\BTS_Master\\BTS_DataScienceFoundations/Session_7')"
   ]
  },
  {
   "cell_type": "code",
   "execution_count": 43,
   "metadata": {},
   "outputs": [],
   "source": [
    "lyrics = []\n",
    "\n",
    "# iterates between each file in the direct, if its a txt file reads it and appends to the lyrics list replacing '\\n' with space\n",
    "for file in os.listdir('C:\\BTS_Master\\BTS_DataScienceFoundations/Session_7'):\n",
    "    if file.endswith('.txt'):\n",
    "        with open(str(file)) as f:\n",
    "            lyrics.append(f.read().replace('\\n', ' '))\n"
   ]
  },
  {
   "cell_type": "code",
   "execution_count": 12,
   "metadata": {},
   "outputs": [],
   "source": [
    "tokenize = lambda doc: doc.lower().split(\" \")\n"
   ]
  },
  {
   "cell_type": "code",
   "execution_count": 17,
   "metadata": {},
   "outputs": [],
   "source": [
    "tfidf = TfidfVectorizer(norm='l2', min_df=0, use_idf=True, smooth_idf=False, sublinear_tf=True, tokenizer=tokenize)\n",
    "\n",
    "representation = tfidf.fit_transform(lyrics)"
   ]
  },
  {
   "cell_type": "code",
   "execution_count": 53,
   "metadata": {
    "collapsed": true
   },
   "outputs": [],
   "source": [
    "def cosine_similarity(vector1, vector2):\n",
    "    dot_product = sum(p*q for p,q in zip(vector1, vector2))\n",
    "    magnitude = math.sqrt(sum([val**2 for val in vector1])) * math.sqrt(sum([val**2 for val in vector2]))\n",
    "    if not magnitude:\n",
    "        return 0\n",
    "    return dot_product/magnitude"
   ]
  },
  {
   "cell_type": "code",
   "execution_count": 56,
   "metadata": {},
   "outputs": [
    {
     "name": "stdout",
     "output_type": "stream",
     "text": [
      "The similarity between the song Through Her Eyes and the song The Spirit Carries On is 0.1521289773032246\n",
      "The similarity between the song Through Her Eyes and the song Beneath The Surface is 0.154101895634545\n",
      "The similarity between the song Through Her Eyes and the song Pull Me Under is 0.15894772678581914\n",
      "The similarity between the song Through Her Eyes and the song Wither is 0.1465945306005967\n",
      "The similarity between the song Through Her Eyes and the song Another Brick In The Wall (Part II) is 0.06280735989387921\n",
      "The similarity between the song Through Her Eyes and the song Hey You is 0.09928488990540278\n",
      "The similarity between the song Through Her Eyes and the song Comfortably Numb is 0.19775882519287555\n",
      "The similarity between the song Through Her Eyes and the song Time is 0.12905663990419475\n",
      "The similarity between the song Through Her Eyes and the song Wish You Were Here is 0.08273714019971634\n",
      "The similarity between the song The Spirit Carries On and the song Beneath The Surface is 0.15873619688513171\n",
      "The similarity between the song The Spirit Carries On and the song Pull Me Under is 0.12234742606763653\n",
      "The similarity between the song The Spirit Carries On and the song Wither is 0.1474185280244544\n",
      "The similarity between the song The Spirit Carries On and the song Another Brick In The Wall (Part II) is 0.06998150163511609\n",
      "The similarity between the song The Spirit Carries On and the song Hey You is 0.10573130221947107\n",
      "The similarity between the song The Spirit Carries On and the song Comfortably Numb is 0.1862695655669722\n",
      "The similarity between the song The Spirit Carries On and the song Time is 0.14295446744430787\n",
      "The similarity between the song The Spirit Carries On and the song Wish You Were Here is 0.0737749545407118\n",
      "The similarity between the song Beneath The Surface and the song Pull Me Under is 0.11917601563417246\n",
      "The similarity between the song Beneath The Surface and the song Wither is 0.12794620586529062\n",
      "The similarity between the song Beneath The Surface and the song Another Brick In The Wall (Part II) is 0.06522528154111933\n",
      "The similarity between the song Beneath The Surface and the song Hey You is 0.10675441061170204\n",
      "The similarity between the song Beneath The Surface and the song Comfortably Numb is 0.13859611366352387\n",
      "The similarity between the song Beneath The Surface and the song Time is 0.15688213788031102\n",
      "The similarity between the song Beneath The Surface and the song Wish You Were Here is 0.09397090731231092\n",
      "The similarity between the song Pull Me Under and the song Wither is 0.10508985688255777\n",
      "The similarity between the song Pull Me Under and the song Another Brick In The Wall (Part II) is 0.06198103318446415\n",
      "The similarity between the song Pull Me Under and the song Hey You is 0.08818568246239351\n",
      "The similarity between the song Pull Me Under and the song Comfortably Numb is 0.10414919932678801\n",
      "The similarity between the song Pull Me Under and the song Time is 0.15335238896428882\n",
      "The similarity between the song Pull Me Under and the song Wish You Were Here is 0.04609447626538458\n",
      "The similarity between the song Wither and the song Another Brick In The Wall (Part II) is 0.07093270499551113\n",
      "The similarity between the song Wither and the song Hey You is 0.12660663912253806\n",
      "The similarity between the song Wither and the song Comfortably Numb is 0.11391719004052674\n",
      "The similarity between the song Wither and the song Time is 0.14847334624958286\n",
      "The similarity between the song Wither and the song Wish You Were Here is 0.054618255995686406\n",
      "The similarity between the song Another Brick In The Wall (Part II) and the song Hey You is 0.18968897053542866\n",
      "The similarity between the song Another Brick In The Wall (Part II) and the song Comfortably Numb is 0.18078047726219534\n",
      "The similarity between the song Another Brick In The Wall (Part II) and the song Time is 0.07862831170900772\n",
      "The similarity between the song Another Brick In The Wall (Part II) and the song Wish You Were Here is 0.08914745079569027\n",
      "The similarity between the song Hey You and the song Comfortably Numb is 0.14187104735044745\n",
      "The similarity between the song Hey You and the song Time is 0.11218559156191205\n",
      "The similarity between the song Hey You and the song Wish You Were Here is 0.10008217809086058\n",
      "The similarity between the song Comfortably Numb and the song Time is 0.1762631702000756\n",
      "The similarity between the song Comfortably Numb and the song Wish You Were Here is 0.10344613372335716\n",
      "The similarity between the song Time and the song Wish You Were Here is 0.09713358560376541\n"
     ]
    }
   ],
   "source": [
    "songs_name = ['Through Her Eyes', 'The Spirit Carries On', \"Beneath The Surface\", \"Pull Me Under\", \"Wither\", \n",
    "              \"Another Brick In The Wall (Part II)\", \"Hey You\", \"Comfortably Numb\", 'Time', \"Wish You Were Here\" ]\n",
    "for i in range(10):\n",
    "    for j in range(i+1,10):\n",
    "        similarity = cosine_similarity(representation.toarray()[i], representation.toarray()[j])\n",
    "        print(\"The similarity between the song {} and the song {} is {}\".format(songs_name[i], songs_name[j], similarity))"
   ]
  },
  {
   "cell_type": "code",
   "execution_count": 79,
   "metadata": {},
   "outputs": [],
   "source": [
    "token_lyrics = [tokenize(d) for d in lyrics]\n",
    "\n",
    "# removing stopwords and stemming\n",
    "porter = nltk.PorterStemmer()\n",
    "lyrics_final = []\n",
    "for song in token_lyrics:\n",
    "    lyrics_stopwords = [word for word in song if word not in stopwords.words('english')]\n",
    "    lyrics_stemming = [porter.stem(word) for word in lyrics_stopwords]\n",
    "    lyrics_final.append(lyrics_stemming)\n",
    "    "
   ]
  },
  {
   "cell_type": "code",
   "execution_count": 85,
   "metadata": {
    "collapsed": true
   },
   "outputs": [],
   "source": [
    "# join the letters together again to be able to use sklearn\n",
    "lyrics_processed = [' '.join(song) for song in lyrics_final]"
   ]
  },
  {
   "cell_type": "code",
   "execution_count": 87,
   "metadata": {},
   "outputs": [],
   "source": [
    "tfidf = TfidfVectorizer(norm='l2', min_df=0, use_idf=True, smooth_idf=False, sublinear_tf=True, tokenizer=tokenize)\n",
    "\n",
    "representation = tfidf.fit_transform(lyrics_processed)"
   ]
  },
  {
   "cell_type": "code",
   "execution_count": 88,
   "metadata": {},
   "outputs": [
    {
     "name": "stdout",
     "output_type": "stream",
     "text": [
      "The similarity between the song Through Her Eyes and the song The Spirit Carries On is 0.1036096976275753\n",
      "The similarity between the song Through Her Eyes and the song Beneath The Surface is 0.06298287212867386\n",
      "The similarity between the song Through Her Eyes and the song Pull Me Under is 0.11617477938607257\n",
      "The similarity between the song Through Her Eyes and the song Wither is 0.0929824469158438\n",
      "The similarity between the song Through Her Eyes and the song Another Brick In The Wall (Part II) is 0.014254177995545778\n",
      "The similarity between the song Through Her Eyes and the song Hey You is 0.05272962806002318\n",
      "The similarity between the song Through Her Eyes and the song Comfortably Numb is 0.11915146597694783\n",
      "The similarity between the song Through Her Eyes and the song Time is 0.07696663086015136\n",
      "The similarity between the song Through Her Eyes and the song Wish You Were Here is 0.01782579866900643\n",
      "The similarity between the song The Spirit Carries On and the song Beneath The Surface is 0.06495126155473303\n",
      "The similarity between the song The Spirit Carries On and the song Pull Me Under is 0.05491323486269249\n",
      "The similarity between the song The Spirit Carries On and the song Wither is 0.10104002875121824\n",
      "The similarity between the song The Spirit Carries On and the song Another Brick In The Wall (Part II) is 0.008585830413381554\n",
      "The similarity between the song The Spirit Carries On and the song Hey You is 0.058942133435800716\n",
      "The similarity between the song The Spirit Carries On and the song Comfortably Numb is 0.08943846262773636\n",
      "The similarity between the song The Spirit Carries On and the song Time is 0.049633780915578976\n",
      "The similarity between the song The Spirit Carries On and the song Wish You Were Here is 0.024184107870594468\n",
      "The similarity between the song Beneath The Surface and the song Pull Me Under is 0.05329798749044696\n",
      "The similarity between the song Beneath The Surface and the song Wither is 0.08935269945800682\n",
      "The similarity between the song Beneath The Surface and the song Another Brick In The Wall (Part II) is 0.03774534037830992\n",
      "The similarity between the song Beneath The Surface and the song Hey You is 0.058096009273374216\n",
      "The similarity between the song Beneath The Surface and the song Comfortably Numb is 0.05397922355521593\n",
      "The similarity between the song Beneath The Surface and the song Time is 0.10831637020735886\n",
      "The similarity between the song Beneath The Surface and the song Wish You Were Here is 0.016639628934861504\n",
      "The similarity between the song Pull Me Under and the song Wither is 0.04844021853950624\n",
      "The similarity between the song Pull Me Under and the song Another Brick In The Wall (Part II) is 0.02559310220137686\n",
      "The similarity between the song Pull Me Under and the song Hey You is 0.028263654481268538\n",
      "The similarity between the song Pull Me Under and the song Comfortably Numb is 0.028540053183317614\n",
      "The similarity between the song Pull Me Under and the song Time is 0.10874730053124083\n",
      "The similarity between the song Pull Me Under and the song Wish You Were Here is 0.02251253403087688\n",
      "The similarity between the song Wither and the song Another Brick In The Wall (Part II) is 0.052376471034017796\n",
      "The similarity between the song Wither and the song Hey You is 0.07279580548403869\n",
      "The similarity between the song Wither and the song Comfortably Numb is 0.05263953444080293\n",
      "The similarity between the song Wither and the song Time is 0.07900917777396282\n",
      "The similarity between the song Wither and the song Wish You Were Here is 0.011653237800927628\n",
      "The similarity between the song Another Brick In The Wall (Part II) and the song Hey You is 0.14390777920909376\n",
      "The similarity between the song Another Brick In The Wall (Part II) and the song Comfortably Numb is 0.06102053452018826\n",
      "The similarity between the song Another Brick In The Wall (Part II) and the song Time is 0.038478507482668706\n",
      "The similarity between the song Another Brick In The Wall (Part II) and the song Wish You Were Here is 0.016246869500463525\n",
      "The similarity between the song Hey You and the song Comfortably Numb is 0.05546486279262105\n",
      "The similarity between the song Hey You and the song Time is 0.06009617542848169\n",
      "The similarity between the song Hey You and the song Wish You Were Here is 0.0413753803568582\n",
      "The similarity between the song Comfortably Numb and the song Time is 0.08542481142160596\n",
      "The similarity between the song Comfortably Numb and the song Wish You Were Here is 0.03520484238767008\n",
      "The similarity between the song Time and the song Wish You Were Here is 0.05463277559126874\n"
     ]
    }
   ],
   "source": [
    "songs_name = ['Through Her Eyes', 'The Spirit Carries On', \"Beneath The Surface\", \"Pull Me Under\", \"Wither\", \n",
    "              \"Another Brick In The Wall (Part II)\", \"Hey You\", \"Comfortably Numb\", 'Time', \"Wish You Were Here\" ]\n",
    "for i in range(10):\n",
    "    for j in range(i+1,10):\n",
    "        similarity = cosine_similarity(representation.toarray()[i], representation.toarray()[j])\n",
    "        print(\"The similarity between the song {} and the song {} is {}\".format(songs_name[i], songs_name[j], similarity))"
   ]
  },
  {
   "cell_type": "markdown",
   "metadata": {},
   "source": [
    "the similarity between the songs seems to be lower for every pair of songs.    \n",
    "I was thinking that stemming the words would give us a higher level of similarity, but i guess the stop word removal probably lowers even more the similarity.    \n",
    "These operation dont affect the same way every lyrics and now the most similar songs are different than before.   \n",
    "The most similar songs were: *The similarity between the song Through Her Eyes and the song Comfortably Numb is 0.19775882519287555* that now have a similarity score of 0.11915146597694783.      \n",
    "on the other side the most similar ones now are *The similarity between the song Another Brick In The Wall (Part II) and the song Hey You is 0.14390777920909376* from a previous score of 0.18968897053542866"
   ]
  },
  {
   "cell_type": "code",
   "execution_count": 90,
   "metadata": {},
   "outputs": [],
   "source": [
    "from nltk.corpus import treebank, stopwords\n",
    "from nltk import ConditionalFreqDist \n",
    "\n",
    "# initialize a new conditional distribution\n",
    "cfd = ConditionalFreqDist()\n",
    "\n",
    "# get a list of English stopwords\n",
    "stopwords_list = stopwords.words('english')\n",
    "\n",
    "def is_noun(tag):\n",
    "    return tag.lower() in ['nn','nns','nn$','nn-tl','nn+bez', 'nn+hvz', \n",
    "                           'nns$','np','np$','np+bez','nps', 'nps$','nr',\n",
    "                           'np-tl','nrs','nr$']\n",
    "\n",
    "for sentence in treebank.tagged_sents():\n",
    "    for (index, tagtuple) in enumerate(sentence):\n",
    "        (token, tag) = tagtuple\n",
    "        token = token.lower()\n",
    "        if token not in stopwords_list and is_noun(tag):\n",
    "            window = sentence[index+1:index+5]\n",
    "            for (window_token, window_tag) in window:\n",
    "                window_token = window_token.lower()\n",
    "                if window_token not in stopwords_list and is_noun(window_tag):\n",
    "                    cfd[token][window_token] += 1"
   ]
  },
  {
   "cell_type": "code",
   "execution_count": 114,
   "metadata": {},
   "outputs": [
    {
     "name": "stdout",
     "output_type": "stream",
     "text": [
      "computers\n"
     ]
    }
   ],
   "source": [
    "print(cfd['chairman'].max())"
   ]
  },
  {
   "cell_type": "code",
   "execution_count": 97,
   "metadata": {},
   "outputs": [
    {
     "name": "stdout",
     "output_type": "stream",
     "text": [
      "%\n"
     ]
    }
   ],
   "source": [
    "print(cfd['profit'].max())"
   ]
  },
  {
   "cell_type": "code",
   "execution_count": 98,
   "metadata": {},
   "outputs": [
    {
     "name": "stdout",
     "output_type": "stream",
     "text": [
      "chief\n"
     ]
    }
   ],
   "source": [
    "print(cfd['president'].max())"
   ]
  },
  {
   "cell_type": "code",
   "execution_count": 99,
   "metadata": {},
   "outputs": [
    {
     "name": "stdout",
     "output_type": "stream",
     "text": [
      "bonds\n"
     ]
    }
   ],
   "source": [
    "print(cfd['investors'].max())"
   ]
  },
  {
   "cell_type": "code",
   "execution_count": 100,
   "metadata": {},
   "outputs": [
    {
     "name": "stdout",
     "output_type": "stream",
     "text": [
      "streets\n"
     ]
    }
   ],
   "source": [
    "print(cfd['city'].max())"
   ]
  },
  {
   "cell_type": "code",
   "execution_count": 101,
   "metadata": {},
   "outputs": [
    {
     "name": "stdout",
     "output_type": "stream",
     "text": [
      "officer\n"
     ]
    }
   ],
   "source": [
    "print(cfd['chief'].max())"
   ]
  },
  {
   "cell_type": "markdown",
   "metadata": {},
   "source": [
    "'chief' seems to be the word people associate with a position of authority"
   ]
  }
 ],
 "metadata": {
  "kernelspec": {
   "display_name": "Python 3",
   "language": "python",
   "name": "python3"
  },
  "language_info": {
   "codemirror_mode": {
    "name": "ipython",
    "version": 3
   },
   "file_extension": ".py",
   "mimetype": "text/x-python",
   "name": "python",
   "nbconvert_exporter": "python",
   "pygments_lexer": "ipython3",
   "version": "3.6.0"
  }
 },
 "nbformat": 4,
 "nbformat_minor": 2
}
