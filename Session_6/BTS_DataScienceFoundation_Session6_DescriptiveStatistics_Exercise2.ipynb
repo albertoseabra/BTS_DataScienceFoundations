{
 "cells": [
  {
   "cell_type": "markdown",
   "metadata": {},
   "source": [
    "# Subject: Data Science Foundation\n",
    "\n",
    "## Session 6 - Introduction to descriptive statistics\n",
    "\n",
    "### Exercice 2 -  Descriptive Statistics For pandas Dataframe \"Indicadores de fecundidad\"\n",
    "\n",
    "Considering the Descriptive Statistics in Demo 2 develop the Descriptive Statistics for the variable “Taxa bruta de natalidade”. \n",
    "\n",
    "- Dataset: \"Indicadores de fecundidad\" (available at https://www.europeandataportal.eu/data/en/dataset/http---datos-gob-es-catalogo-a12002994-indicadores-de-fecundidad). \n",
    "- Interpret and discuss the Results. \n",
    "- Commit scripts in your GitHub account. You should export your solution code (.ipynb notebook) and push it to your repository “DataScienceFoundations”.\n",
    "\n",
    "\n",
    "The following are the tasks that should complete and synchronize with your repository “DataScienceFoundations” until October 25. Please notice that none of these tasks is graded, however it’s important that you correctly understand and complete them in order to be sure that you won’t have problems with further assignments."
   ]
  },
  {
   "cell_type": "markdown",
   "metadata": {},
   "source": [
    "### Read data into a Dataframe:"
   ]
  },
  {
   "cell_type": "code",
   "execution_count": 2,
   "metadata": {
    "scrolled": true
   },
   "outputs": [
    {
     "data": {
      "text/html": [
       "<div>\n",
       "<style>\n",
       "    .dataframe thead tr:only-child th {\n",
       "        text-align: right;\n",
       "    }\n",
       "\n",
       "    .dataframe thead th {\n",
       "        text-align: left;\n",
       "    }\n",
       "\n",
       "    .dataframe tbody tr th {\n",
       "        vertical-align: top;\n",
       "    }\n",
       "</style>\n",
       "<table border=\"1\" class=\"dataframe\">\n",
       "  <thead>\n",
       "    <tr style=\"text-align: right;\">\n",
       "      <th></th>\n",
       "      <th>CodTempo</th>\n",
       "      <th>Tempo</th>\n",
       "      <th>Indicadores</th>\n",
       "      <th>CodEspazo</th>\n",
       "      <th>Espazo</th>\n",
       "      <th>DatoN</th>\n",
       "    </tr>\n",
       "  </thead>\n",
       "  <tbody>\n",
       "    <tr>\n",
       "      <th>0</th>\n",
       "      <td>2011</td>\n",
       "      <td>2011</td>\n",
       "      <td>Taxa bruta de natalidade</td>\n",
       "      <td>1501</td>\n",
       "      <td>1501 Arzúa</td>\n",
       "      <td>5.01</td>\n",
       "    </tr>\n",
       "    <tr>\n",
       "      <th>1</th>\n",
       "      <td>2011</td>\n",
       "      <td>2011</td>\n",
       "      <td>Taxa bruta de natalidade</td>\n",
       "      <td>1502</td>\n",
       "      <td>1502 Barbanza</td>\n",
       "      <td>8.26</td>\n",
       "    </tr>\n",
       "    <tr>\n",
       "      <th>2</th>\n",
       "      <td>2011</td>\n",
       "      <td>2011</td>\n",
       "      <td>Taxa bruta de natalidade</td>\n",
       "      <td>1503</td>\n",
       "      <td>1503 A Barcala</td>\n",
       "      <td>6.37</td>\n",
       "    </tr>\n",
       "    <tr>\n",
       "      <th>3</th>\n",
       "      <td>2011</td>\n",
       "      <td>2011</td>\n",
       "      <td>Taxa bruta de natalidade</td>\n",
       "      <td>1504</td>\n",
       "      <td>1504 Bergantiños</td>\n",
       "      <td>7.35</td>\n",
       "    </tr>\n",
       "    <tr>\n",
       "      <th>4</th>\n",
       "      <td>2011</td>\n",
       "      <td>2011</td>\n",
       "      <td>Taxa bruta de natalidade</td>\n",
       "      <td>1505</td>\n",
       "      <td>1505 Betanzos</td>\n",
       "      <td>7.53</td>\n",
       "    </tr>\n",
       "  </tbody>\n",
       "</table>\n",
       "</div>"
      ],
      "text/plain": [
       "   CodTempo  Tempo               Indicadores  CodEspazo            Espazo  \\\n",
       "0      2011   2011  Taxa bruta de natalidade       1501        1501 Arzúa   \n",
       "1      2011   2011  Taxa bruta de natalidade       1502     1502 Barbanza   \n",
       "2      2011   2011  Taxa bruta de natalidade       1503    1503 A Barcala   \n",
       "3      2011   2011  Taxa bruta de natalidade       1504  1504 Bergantiños   \n",
       "4      2011   2011  Taxa bruta de natalidade       1505     1505 Betanzos   \n",
       "\n",
       "   DatoN  \n",
       "0   5.01  \n",
       "1   8.26  \n",
       "2   6.37  \n",
       "3   7.35  \n",
       "4   7.53  "
      ]
     },
     "execution_count": 2,
     "metadata": {},
     "output_type": "execute_result"
    }
   ],
   "source": [
    "import pandas as pd\n",
    "import numpy as np\n",
    "import matplotlib.pyplot as plt\n",
    "%matplotlib inline\n",
    "df=pd.read_csv(\"C:\\BTS_Master\\BTS_DataScienceFoundations\\Session_6/FileData/2_hdat724.csv\", encoding = \"ISO-8859-1\")\n",
    "df.head()"
   ]
  },
  {
   "cell_type": "markdown",
   "metadata": {
    "collapsed": true
   },
   "source": [
    "## Basic statistics \n",
    "\n",
    "Sum, Cumulative sum, Count the number of non-NA values, Count the number of NA values, Minimum value of \"Taxa bruta de natalidade\", Minimum value of \"Taxa bruta de natalidade\" and Range of \"Taxa bruta de natalidade\"."
   ]
  },
  {
   "cell_type": "code",
   "execution_count": 3,
   "metadata": {},
   "outputs": [
    {
     "name": "stdout",
     "output_type": "stream",
     "text": [
      "Taxa bruta de natalidade sum:  307.64\n",
      "Taxa bruta de natalidade count:  52\n",
      "Taxa bruta de natalidade NA values:  1\n",
      "Taxa bruta de natalidade min:  1.44\n",
      "Taxa bruta de natalidade max:  9.68\n",
      "Taxa bruta de natalidade range:  8.24\n"
     ]
    }
   ],
   "source": [
    "print('Taxa bruta de natalidade sum: ', df.DatoN.sum())\n",
    "print('Taxa bruta de natalidade count: ', df.DatoN.count())\n",
    "print('Taxa bruta de natalidade NA values: ', df.DatoN.isnull().sum())\n",
    "print('Taxa bruta de natalidade min: ', df.DatoN.min())\n",
    "print('Taxa bruta de natalidade max: ', df.DatoN.max())\n",
    "print('Taxa bruta de natalidade range: ', df.DatoN.max() - df.DatoN.min())"
   ]
  },
  {
   "cell_type": "markdown",
   "metadata": {
    "collapsed": true
   },
   "source": [
    "## Central Tendency\n",
    "\n",
    "Mean and Median."
   ]
  },
  {
   "cell_type": "code",
   "execution_count": 4,
   "metadata": {},
   "outputs": [
    {
     "data": {
      "text/plain": [
       "5.916153846153846"
      ]
     },
     "execution_count": 4,
     "metadata": {},
     "output_type": "execute_result"
    }
   ],
   "source": [
    "df['DatoN'].mean()"
   ]
  },
  {
   "cell_type": "code",
   "execution_count": 5,
   "metadata": {},
   "outputs": [
    {
     "data": {
      "text/plain": [
       "5.605"
      ]
     },
     "execution_count": 5,
     "metadata": {},
     "output_type": "execute_result"
    }
   ],
   "source": [
    "df['DatoN'].median()"
   ]
  },
  {
   "cell_type": "markdown",
   "metadata": {},
   "source": [
    "## Measures of spread\n",
    "\n",
    "Range, Variance, Standard deviation, Q1, Q2, Q3, Box-and-whisker plots and Histogram."
   ]
  },
  {
   "cell_type": "code",
   "execution_count": 6,
   "metadata": {},
   "outputs": [
    {
     "data": {
      "text/html": [
       "<div>\n",
       "<style>\n",
       "    .dataframe thead tr:only-child th {\n",
       "        text-align: right;\n",
       "    }\n",
       "\n",
       "    .dataframe thead th {\n",
       "        text-align: left;\n",
       "    }\n",
       "\n",
       "    .dataframe tbody tr th {\n",
       "        vertical-align: top;\n",
       "    }\n",
       "</style>\n",
       "<table border=\"1\" class=\"dataframe\">\n",
       "  <thead>\n",
       "    <tr style=\"text-align: right;\">\n",
       "      <th></th>\n",
       "      <th>count</th>\n",
       "      <th>mean</th>\n",
       "      <th>std</th>\n",
       "      <th>min</th>\n",
       "      <th>25%</th>\n",
       "      <th>50%</th>\n",
       "      <th>75%</th>\n",
       "      <th>max</th>\n",
       "    </tr>\n",
       "  </thead>\n",
       "  <tbody>\n",
       "    <tr>\n",
       "      <th>DatoN</th>\n",
       "      <td>52.0</td>\n",
       "      <td>5.916154</td>\n",
       "      <td>2.118566</td>\n",
       "      <td>1.44</td>\n",
       "      <td>4.685</td>\n",
       "      <td>5.605</td>\n",
       "      <td>7.755</td>\n",
       "      <td>9.68</td>\n",
       "    </tr>\n",
       "  </tbody>\n",
       "</table>\n",
       "</div>"
      ],
      "text/plain": [
       "       count      mean       std   min    25%    50%    75%   max\n",
       "DatoN   52.0  5.916154  2.118566  1.44  4.685  5.605  7.755  9.68"
      ]
     },
     "execution_count": 6,
     "metadata": {},
     "output_type": "execute_result"
    }
   ],
   "source": [
    "df.describe()[['DatoN']].T"
   ]
  },
  {
   "cell_type": "code",
   "execution_count": 7,
   "metadata": {},
   "outputs": [
    {
     "data": {
      "text/plain": [
       "<matplotlib.axes._subplots.AxesSubplot at 0x23d1598e908>"
      ]
     },
     "execution_count": 7,
     "metadata": {},
     "output_type": "execute_result"
    },
    {
     "data": {
      "image/png": "[encoded data removed]",
      "text/plain": [
       "<matplotlib.figure.Figure at 0x23d1598ef98>"
      ]
     },
     "metadata": {},
     "output_type": "display_data"
    }
   ],
   "source": [
    "df['DatoN'].hist(bins=15)"
   ]
  },
  {
   "cell_type": "code",
   "execution_count": 8,
   "metadata": {},
   "outputs": [
    {
     "data": {
      "text/plain": [
       "<matplotlib.axes._subplots.AxesSubplot at 0x23d15dcfda0>"
      ]
     },
     "execution_count": 8,
     "metadata": {},
     "output_type": "execute_result"
    },
    {
     "data": {
      "image/png": "[encoded data removed]",
      "text/plain": [
       "<matplotlib.figure.Figure at 0x23d15dcfe48>"
      ]
     },
     "metadata": {},
     "output_type": "display_data"
    }
   ],
   "source": [
    "plt.figure(figsize=[10,8])\n",
    "df.boxplot('DatoN')"
   ]
  },
  {
   "cell_type": "code",
   "execution_count": null,
   "metadata": {
    "collapsed": true
   },
   "outputs": [],
   "source": []
  },
  {
   "cell_type": "markdown",
   "metadata": {},
   "source": [
    "## Skewness and Kurtosis"
   ]
  },
  {
   "cell_type": "code",
   "execution_count": 9,
   "metadata": {},
   "outputs": [
    {
     "data": {
      "text/plain": [
       "-0.75757633259455126"
      ]
     },
     "execution_count": 9,
     "metadata": {},
     "output_type": "execute_result"
    }
   ],
   "source": [
    "df['DatoN'].kurt()"
   ]
  },
  {
   "cell_type": "code",
   "execution_count": 10,
   "metadata": {},
   "outputs": [
    {
     "data": {
      "text/plain": [
       "-0.17447627421289474"
      ]
     },
     "execution_count": 10,
     "metadata": {},
     "output_type": "execute_result"
    }
   ],
   "source": [
    "df['DatoN'].skew()"
   ]
  },
  {
   "cell_type": "markdown",
   "metadata": {},
   "source": [
    "## Question: What are the five regions with the lowest fertility rate and which have a outlier behavior?"
   ]
  },
  {
   "cell_type": "markdown",
   "metadata": {},
   "source": [
    "### Outliers:"
   ]
  },
  {
   "cell_type": "code",
   "execution_count": 11,
   "metadata": {},
   "outputs": [],
   "source": [
    "df['daton_std'] = (abs(df['DatoN']-df['DatoN'].mean()) / df['DatoN'].std())"
   ]
  },
  {
   "cell_type": "code",
   "execution_count": 13,
   "metadata": {},
   "outputs": [
    {
     "data": {
      "text/html": [
       "<div>\n",
       "<style>\n",
       "    .dataframe thead tr:only-child th {\n",
       "        text-align: right;\n",
       "    }\n",
       "\n",
       "    .dataframe thead th {\n",
       "        text-align: left;\n",
       "    }\n",
       "\n",
       "    .dataframe tbody tr th {\n",
       "        vertical-align: top;\n",
       "    }\n",
       "</style>\n",
       "<table border=\"1\" class=\"dataframe\">\n",
       "  <thead>\n",
       "    <tr style=\"text-align: right;\">\n",
       "      <th></th>\n",
       "      <th>CodTempo</th>\n",
       "      <th>Tempo</th>\n",
       "      <th>Indicadores</th>\n",
       "      <th>CodEspazo</th>\n",
       "      <th>Espazo</th>\n",
       "      <th>DatoN</th>\n",
       "      <th>daton_std</th>\n",
       "    </tr>\n",
       "  </thead>\n",
       "  <tbody>\n",
       "    <tr>\n",
       "      <th>32</th>\n",
       "      <td>2011</td>\n",
       "      <td>2011</td>\n",
       "      <td>Taxa bruta de natalidade</td>\n",
       "      <td>3202</td>\n",
       "      <td>3202 Baixa Limia</td>\n",
       "      <td>1.44</td>\n",
       "      <td>2.112822</td>\n",
       "    </tr>\n",
       "    <tr>\n",
       "      <th>20</th>\n",
       "      <td>2011</td>\n",
       "      <td>2011</td>\n",
       "      <td>Taxa bruta de natalidade</td>\n",
       "      <td>2703</td>\n",
       "      <td>2703 A Fonsagrada</td>\n",
       "      <td>1.85</td>\n",
       "      <td>1.919295</td>\n",
       "    </tr>\n",
       "    <tr>\n",
       "      <th>18</th>\n",
       "      <td>2011</td>\n",
       "      <td>2011</td>\n",
       "      <td>Taxa bruta de natalidade</td>\n",
       "      <td>2701</td>\n",
       "      <td>2701 Os Ancares</td>\n",
       "      <td>2.01</td>\n",
       "      <td>1.843772</td>\n",
       "    </tr>\n",
       "    <tr>\n",
       "      <th>13</th>\n",
       "      <td>2011</td>\n",
       "      <td>2011</td>\n",
       "      <td>Taxa bruta de natalidade</td>\n",
       "      <td>1514</td>\n",
       "      <td>1514 Santiago</td>\n",
       "      <td>9.68</td>\n",
       "      <td>1.776601</td>\n",
       "    </tr>\n",
       "    <tr>\n",
       "      <th>39</th>\n",
       "      <td>2011</td>\n",
       "      <td>2011</td>\n",
       "      <td>Taxa bruta de natalidade</td>\n",
       "      <td>3209</td>\n",
       "      <td>3209 Terra de Trives</td>\n",
       "      <td>2.49</td>\n",
       "      <td>1.617204</td>\n",
       "    </tr>\n",
       "  </tbody>\n",
       "</table>\n",
       "</div>"
      ],
      "text/plain": [
       "    CodTempo  Tempo               Indicadores  CodEspazo  \\\n",
       "32      2011   2011  Taxa bruta de natalidade       3202   \n",
       "20      2011   2011  Taxa bruta de natalidade       2703   \n",
       "18      2011   2011  Taxa bruta de natalidade       2701   \n",
       "13      2011   2011  Taxa bruta de natalidade       1514   \n",
       "39      2011   2011  Taxa bruta de natalidade       3209   \n",
       "\n",
       "                  Espazo  DatoN  daton_std  \n",
       "32      3202 Baixa Limia   1.44   2.112822  \n",
       "20     2703 A Fonsagrada   1.85   1.919295  \n",
       "18       2701 Os Ancares   2.01   1.843772  \n",
       "13         1514 Santiago   9.68   1.776601  \n",
       "39  3209 Terra de Trives   2.49   1.617204  "
      ]
     },
     "execution_count": 13,
     "metadata": {},
     "output_type": "execute_result"
    }
   ],
   "source": [
    "df.sort_values(by='daton_std', ascending=False).head(5)"
   ]
  },
  {
   "cell_type": "markdown",
   "metadata": {},
   "source": [
    "### Regions with the lowest fertility rate:"
   ]
  },
  {
   "cell_type": "code",
   "execution_count": 17,
   "metadata": {},
   "outputs": [
    {
     "data": {
      "text/html": [
       "<div>\n",
       "<style>\n",
       "    .dataframe thead tr:only-child th {\n",
       "        text-align: right;\n",
       "    }\n",
       "\n",
       "    .dataframe thead th {\n",
       "        text-align: left;\n",
       "    }\n",
       "\n",
       "    .dataframe tbody tr th {\n",
       "        vertical-align: top;\n",
       "    }\n",
       "</style>\n",
       "<table border=\"1\" class=\"dataframe\">\n",
       "  <thead>\n",
       "    <tr style=\"text-align: right;\">\n",
       "      <th></th>\n",
       "      <th>Espazo</th>\n",
       "      <th>DatoN</th>\n",
       "      <th>daton_std</th>\n",
       "    </tr>\n",
       "  </thead>\n",
       "  <tbody>\n",
       "    <tr>\n",
       "      <th>32</th>\n",
       "      <td>3202 Baixa Limia</td>\n",
       "      <td>1.44</td>\n",
       "      <td>2.112822</td>\n",
       "    </tr>\n",
       "    <tr>\n",
       "      <th>20</th>\n",
       "      <td>2703 A Fonsagrada</td>\n",
       "      <td>1.85</td>\n",
       "      <td>1.919295</td>\n",
       "    </tr>\n",
       "    <tr>\n",
       "      <th>18</th>\n",
       "      <td>2701 Os Ancares</td>\n",
       "      <td>2.01</td>\n",
       "      <td>1.843772</td>\n",
       "    </tr>\n",
       "    <tr>\n",
       "      <th>39</th>\n",
       "      <td>3209 Terra de Trives</td>\n",
       "      <td>2.49</td>\n",
       "      <td>1.617204</td>\n",
       "    </tr>\n",
       "    <tr>\n",
       "      <th>42</th>\n",
       "      <td>3212 Viana</td>\n",
       "      <td>2.51</td>\n",
       "      <td>1.607764</td>\n",
       "    </tr>\n",
       "  </tbody>\n",
       "</table>\n",
       "</div>"
      ],
      "text/plain": [
       "                  Espazo  DatoN  daton_std\n",
       "32      3202 Baixa Limia   1.44   2.112822\n",
       "20     2703 A Fonsagrada   1.85   1.919295\n",
       "18       2701 Os Ancares   2.01   1.843772\n",
       "39  3209 Terra de Trives   2.49   1.617204\n",
       "42            3212 Viana   2.51   1.607764"
      ]
     },
     "execution_count": 17,
     "metadata": {},
     "output_type": "execute_result"
    }
   ],
   "source": [
    "df.sort_values(by='DatoN').head()[['Espazo', 'DatoN', 'daton_std']]"
   ]
  },
  {
   "cell_type": "markdown",
   "metadata": {},
   "source": [
    "Baixa Limia, A Fonsagrada and Os Ancares are the regions with the lowest fertility rate that have an outlier behaviour    "
   ]
  }
 ],
 "metadata": {
  "kernelspec": {
   "display_name": "Python 3",
   "language": "python",
   "name": "python3"
  },
  "language_info": {
   "codemirror_mode": {
    "name": "ipython",
    "version": 3
   },
   "file_extension": ".py",
   "mimetype": "text/x-python",
   "name": "python",
   "nbconvert_exporter": "python",
   "pygments_lexer": "ipython3",
   "version": "3.6.0"
  }
 },
 "nbformat": 4,
 "nbformat_minor": 2
}
